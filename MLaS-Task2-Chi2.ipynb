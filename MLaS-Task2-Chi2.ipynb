{
 "cells": [
  {
   "cell_type": "markdown",
   "metadata": {},
   "source": [
    "# Machine Learning and Statistics - Tasks\n",
    "Assignment Tasks for Machine Learning and Statistics, GMIT 2020\n",
    "\n",
    "Lecturer: dr Ian McLoughlin\n",
    "\n",
    "\n",
    ">Author: **Andrzej Kocielski**  \n",
    ">Github: [andkoc001](https://github.com/andkoc001/)  \n",
    ">Email: G00376291@gmit.ie, and.koc001@gmail.com\n",
    "\n",
    "Created: 07-11-2020\n",
    "\n",
    "This Notebook should be read in conjunction with the corresponding `README.md` file at the project [repository](https://github.com/andkoc001/Machine-Learning-and-Statistics.git) at GitHub."
   ]
  },
  {
   "cell_type": "markdown",
   "metadata": {},
   "source": [
    "___\n",
    "## Task 2\n",
    "\n",
    "### Objectives\n",
    "__Verify the value of the $ {\\chi}^2 $ (chi-squared) test for a sample dataset and calculate the associated $ p $ value__.\n",
    "\n"
   ]
  },
  {
   "cell_type": "markdown",
   "metadata": {},
   "source": [
    "### The Chi-squared test\n",
    "\n",
    "The chi-squared test is a statistical tool suitable for categorical data values (for instance, colour or academic degree or dog breeds). It can be used for three applications, although in essence they test similar things: 1) the goodness of fit test (how one category data fits the distribution), 2) test for homogeneity (liekehood of different samples coming from the same population) and 3) test of independence. [YouTube](https://www.youtube.com/watch?v=7_cs1YlZoug). \n",
    "\n",
    "For this task, Chi-squared **Test of independence** applies. Test of independence attempts to answer whether being a member of one category is independent of another is statistically significant. In other words, \"the chi-square independence test is a procedure for testing if two categorical variables are related in some population.\" [SPSS Tutorials](https://www.spss-tutorials.com/chi-square-independence-test/)\n",
    "\n",
    "The calculation compares the measured (observed) values against the expected values (if the null hypothesis is true).\n",
    "\n",
    "The result of the chi-squared test is a numerical value that can be interpreted in such a way that it allows for seeing whether one variable is independent of another.\n",
    "\n",
    "A generic form of the test is like this (from [Wikipedia](https://en.wikipedia.org/wiki/Chi-squared_tes)):\n",
    "\n",
    "$$ {\\chi}^2 = \\sum_{k=1}^{n} \\frac{(O_k - E_k)^2}{E_k}\\ $$\n",
    "\n",
    "where:  \n",
    "$ n $ - number of categories,  \n",
    "$ O $ - measurement from observation,  \n",
    "$ E $ - expected value if the null hypothesis is true.\n",
    "\n",
    "It is also worth noting that, in order to render the independence test viable, the expected value $ E_k > 5 $. Although that value is assumed arbitrarily, it is commonly used for practical application (-----quote source here).\n",
    "\n",
    "Also 'degrees of freedom' is required for assessing the independence test. The general formula for the degrees of freedom for tabularised data is as follows:\n",
    "\n",
    "$$ d = (r-1)(c-1) $$\n",
    "    \n",
    "where:  \n",
    "$ d $ - degrees of freedom,  \n",
    "$ r $ - number of rows,  \n",
    "$ c $ - number of columns.\n",
    "\n",
    "The degree of freedom will affect the chi-squared distribution. Sample plots for various degrees of freedom are shown below.\n",
    "\n",
    "\n",
    "![Chi-squared distribution](https://saylordotorg.github.io/text_introductory-statistics/section_15/5a0c7bbacb4242555e8a85c9767c03ee.jpg) Image source: [Saylor Academy](https://saylordotorg.github.io/text_introductory-statistics/s15-01-chi-square-tests-for-independe.html)\n",
    "\n",
    "\"The value of the chi-square random variable $ {\\chi}^2 $ with degree of freedom $ d = k $ that cuts off a right tail of area c is denoted $ {\\chi}^2_c $ and is called a critical value.\" [Saylor Academy](https://saylordotorg.github.io/text_introductory-statistics/s15-01-chi-square-tests-for-independe.html)\n",
    "\n",
    "![Chi-squared critical value](https://saylordotorg.github.io/text_introductory-statistics/section_15/34d06306c2e726f6d5cd7479d9736e5e.jpg) Image source: [Saylor Academy](https://saylordotorg.github.io/text_introductory-statistics/s15-01-chi-square-tests-for-independe.html)\n",
    "\n"
   ]
  },
  {
   "cell_type": "markdown",
   "metadata": {},
   "source": [
    "### The problem\n",
    "\n",
    "This task is to evaluate the given example data along the Chi-squared test result also already given. \"The Chi-squared test for independence is a statistical hypothesis test like a t-test. It is used to analyse whether two categorical variables are independent. The Wikipedia [article](https://en.wikipedia.org/wiki/Chi-squared_test) gives the table below as an example, stating the Chi-squared value based on it is approximately 24.6. Use `scipy.stats` to verify this value and calculate the associated p value. You should include a short note with references justifying your analysis in a markdown cell.\"\n",
    "\n",
    "The data from the above Wikipedia page, describes the test scenario as follows. \"Suppose there is a city of 1,000,000 residents with four neighborhoods: A, B, C, and D. A random sample of 650 residents of the city is taken and their occupation is recorded as \"white collar\", \"blue collar\", or \"no collar\". The null hypothesis is that each person's neighborhood of residence is independent of the person's occupational classification. The data are tabulated as:\n",
    "\n",
    "|              |  A  |  B  |  C  |  D  | Total |\n",
    "|--------------|-----|-----|-----|-----|-------|\n",
    "| White collar |  90 |  60 | 104 |  95 |  349  |\n",
    "| Blue collar  |  30 |  50 |  51 |  20 |  151  |\n",
    "| No collar    |  30 |  40 |  45 |  35 |  150  |\n",
    "|              |     |     |     |     |       |\n",
    "| Total        | 150 | 150 | 200 | 150 |  650  |\n",
    "\n",
    "([Wikipedia](https://en.wikipedia.org/wiki/Chi-squared_test))\n",
    "\n",
    "The chi-squared test of independence verifies whether or not two categorical variables are independent of each other (statistically meaningful). The test assumes the 'null hypothesis' and the opposing 'alternative hypothesis'.\n",
    "\n",
    "For the given sample data, the hypotheses are as follows (from the Wikipedia article):\n",
    "\n",
    "**Null hypothesis** $ H_0 $ - \"each person's neighborhood of residence is independent of the person's occupational classification\",\n",
    "\n",
    "**Alternative hypothesis** $ H_a $ - there is such a dependency.\n",
    "\n",
    "The result of the test is already given in Wikipedia article: $ {\\chi}^2 $ = 24.6, and so is the degrees of freedom: $ d $ = 6.\n",
    "\n",
    "........... the result interpretation .............\n"
   ]
  },
  {
   "cell_type": "markdown",
   "metadata": {},
   "source": [
    "### Calculation\n",
    "\n",
    "The chi-squared test of independence for the provided data is calculated using the statistical functions (`scipy.stats`) from [Scipy](https://docs.scipy.org/doc/scipy/reference/stats.html) library for Python.\n",
    "\n"
   ]
  },
  {
   "cell_type": "markdown",
   "metadata": {},
   "source": [
    "''' To do plan\n",
    "\n",
    "+ chi-squared plots for different degrees of freedom\n",
    "+ mention that Ek should be greater than 5\n",
    "+ define the null hypothesis and the alternative hypothesis, eg.\n",
    "    Null Hypthesis (from the Wikipedia article): \"each person's neighborhood of residence is independent of the person's occupational classification\".\n",
    "    Alt Hypothesis: there is such a dependency (statistically meaningfull)\n",
    "- elaborate the steps of calculating the chi-squared for the sample data \n",
    "- apply the scipy.stats\n",
    "- interpret the result from the calcs; compare to the results given in the Wikipedia\n",
    "+ write a brief conclusion / findings\n",
    "\n",
    "'''"
   ]
  },
  {
   "cell_type": "markdown",
   "metadata": {},
   "source": [
    "### Conclusion \n",
    "\n",
    "From the data provided by the survey, there is not an evidence strong enough to conclude (within reason) that {the distribution of the 'collar colours' among the neighborhoods} is due to the relationship between the person's neighborhood of residence and the person's occupational classification (null hypothesis is true). In other words, the proportion of a certain 'collar colour' is not equal to the proportion of the neighborhood. There is no relationship between the two categorical variables - they are independent. The collated data may be just because of the sampling variability. "
   ]
  },
  {
   "cell_type": "markdown",
   "metadata": {},
   "source": [
    "___\n",
    "## References and bibliography \n",
    "\n",
    "### General \n",
    "\n",
    "- Ian McLoughlin, Assignment Brief, 2020. [pdf] GMIT. Available at: <https://learnonline.gmit.ie/mod/url/view.php?id=102004> [Accessed October 2020].\n",
    "- Ian McLoughlin, Lecturer's notes on square root of 2, 2020. [pdf] GMIT. Available at: <https://learnonline.gmit.ie/mod/url/view.php?id=92022> [Accessed October 2020].\n",
    "\n",
    "### Task 2 related\n",
    "\n",
    "- Ian McaLoughlin - Introduction to the tasks, 2020 [online]. Available at <https://github.com/ianmcloughlin/playing-with-jupyter/blob/main/playing-with-jupyter.ipynb> [Accessed October 2020]\n",
    "- Chi-squared test - Wikipedia contributors [online]. Available at: <https://en.wikipedia.org/wiki/Chi-squared_test> [Accessed October 2020].\n",
    "- Chi-squared test - Wolfram MathWorld contributors. [online] Available at: <https://mathworld.wolfram.com/Chi-SquaredTest.html> [Accessed October 2020].\n",
    "- Chi-squared test of independence - SPSS Tutorials [online]. Available at: <https://www.spss-tutorials.com/chi-square-independence-test/> [Accessed November 2020]\n",
    "- Chi-squared test of independence - Stat Trek [online]. Available at: <https://stattrek.com/chi-square-test/independence.aspx> [Accessed November 2020]\n",
    "- How the Chi-Squared Test of Independence Works - Statistics by Jim [online]. Available at: <https://statisticsbyjim.com/hypothesis-testing/chi-squared-independence/> [Accessed November 2020]\n",
    "- Chi-kwadrat - Statystyka pomoc [online]. Available at: <http://statystyka-pomoc.com/Chi-kwadrat.html> [Accessed November 2020]  \n",
    "- A Gentle Introduction to the Chi-Squared Test for Machine Learning [online]. Available at: <https://machinelearningmastery.com/chi-squared-test-for-machine-learning/> [Accessed November 2020]\n",
    "-Saylor Academy - Introductory statistics, Chi-Square Tests for Independence [online]. Available at: <https://saylordotorg.github.io/text_introductory-statistics/s15-01-chi-square-tests-for-independe.html> [Accessed November 2020]\n",
    "- CrashCourse - Chi-Square Tests: Crash Course Statistics (YouTube), [online] <https://www.youtube.com/watch?v=7_cs1YlZoug> [Accessed November 2020]\n",
    "- Lisa Dierker - Chi-square test - Python (YouTube), [online] Available at: <https://www.youtube.com/watch?v=Pbo7VbHK9cY> [Accessed November 2020]\n",
    "- Statistical functions (scipy.stats) - Scipy documentation [online]. Available at: <https://docs.scipy.org/doc/scipy/reference/stats.html> [Accessed November 2020]\n",
    "\n"
   ]
  },
  {
   "cell_type": "markdown",
   "metadata": {},
   "source": [
    "___\n",
    "Andrzej Kocielski"
   ]
  }
 ],
 "metadata": {
  "kernelspec": {
   "display_name": "Python 3",
   "language": "python",
   "name": "python3"
  },
  "language_info": {
   "codemirror_mode": {
    "name": "ipython",
    "version": 3
   },
   "file_extension": ".py",
   "mimetype": "text/x-python",
   "name": "python",
   "nbconvert_exporter": "python",
   "pygments_lexer": "ipython3",
   "version": "3.7.5"
  }
 },
 "nbformat": 4,
 "nbformat_minor": 4
}
