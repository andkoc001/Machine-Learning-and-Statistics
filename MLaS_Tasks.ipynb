{
 "cells": [
  {
   "cell_type": "markdown",
   "metadata": {},
   "source": [
    "# Machine Learning and Statistics - Tasks\n",
    "Assignment Tasks for Machine Learning and Statistics, GMIT 2020\n",
    "\n",
    "Lecturer: dr Ian McLoughlin\n",
    "\n",
    "\n",
    ">Author: **Andrzej Kocielski**  \n",
    ">Github: [andkoc001](https://github.com/andkoc001/)  \n",
    ">Email: G00376291@gmit.ie, and.koc001@gmail.com\n",
    "\n",
    "Created: 05-10-2020\n",
    "\n",
    "This Notebook should be read in conjunction with the corresponding `README.md` file at the project [repository](https://github.com/andkoc001/Machine-Learning-and-Statistics.git) at GitHub."
   ]
  },
  {
   "cell_type": "markdown",
   "metadata": {},
   "source": [
    "## Task 1\n",
    "\n",
    "Objectives: __Print on screen the square root of 2 to 100 decimal places__."
   ]
  },
  {
   "cell_type": "markdown",
   "metadata": {},
   "source": [
    "### Method A - Taylor Series\n"
   ]
  },
  {
   "cell_type": "markdown",
   "metadata": {},
   "source": [
    "Taylor series can approximate certain class of functions to the required level of accuracy.\n",
    "\n",
    "General Taylor series equation at $ x = a $:\n",
    "\n",
    "$$ \n",
    "f(x) = f(a) + \\frac{f'(a)}{1!}(x-a) + \\frac{f''(a)}{2!}(x-a)^2 + \\frac{f'''(a)}{3!}(x-a)^3+\\dotsb = \\sum_{k=0}^\\infty \\frac{f^{\\left(k\\right)}(a)}{k!} (x-a)^k\n",
    "$$\n"
   ]
  },
  {
   "cell_type": "markdown",
   "metadata": {},
   "source": [
    "Taylor series at $x = 0$:\n",
    "\n",
    "$$ \n",
    "f(x) = f(0) + \\frac{f'(0)}{1!}x + \\frac{f''(0)}{2!}x^2 + \\frac{f'''(0)}{3!}x^3+\\dotsb = \\sum_{k=0}^\\infty \\frac{f^{\\left(k\\right)}(0)}{k!} x^k\n",
    "$$\n"
   ]
  },
  {
   "cell_type": "markdown",
   "metadata": {},
   "source": [
    "For $f(x) = \\sqrt{x}$ :\n",
    "\n",
    "$$\n",
    "\\sqrt{x} = \\sqrt{x_0} + \\frac12x_0^{-\\frac12}(x-x_0) - \\frac18x_0^{-\\frac32}(x-x_0)^2 + \\cdots + \\frac{(-1)^{n+1}(2n-3)!!} {2^nn!}x_0^{\\frac{1-2n}2}(x-x_0)^n + \\cdots\n",
    "$$\n",
    "\n"
   ]
  },
  {
   "cell_type": "code",
   "execution_count": null,
   "metadata": {},
   "outputs": [],
   "source": []
  },
  {
   "cell_type": "markdown",
   "metadata": {},
   "source": [
    "### Method B - Division of a range\n",
    "\n",
    "For any real number $ x $, that $ x > 1 $:\n",
    "\n",
    "$$ \\sqrt{x} \\cdot \\sqrt{x} = x $$\n",
    "\n",
    "$$ 1 < \\sqrt{x} < x $$\n",
    "\n",
    "The last equation is an equivalent to $ 1^2 < x < x^2 $.\n",
    "\n",
    "\n",
    "Hence, it is possible to approximate the value of $ \\sqrt{x} $ by iteratively testing into which of the halves of the original range will it fall. This is done by performing the test: \n",
    "\n",
    "$$ (\\sqrt{x})^2 < (\\frac{1+x}{2})^2 $$\n",
    "\n",
    "Then in the next iteration new boundary conditions are assumed. If the test is true, $ \\frac{1+x}{2} $ becomes the right boundary; if the test is false, $ \\frac{1+x}{2} $ becomes the left boundary. This way, the range tightens at each iteration. \n",
    "\n",
    "\n",
    "___\n",
    "Example for $ x = 2 $:\n",
    "\n",
    "The initial conditions is this: $ 1^2 < (\\sqrt{2})^2 < 2^2 $.\n",
    "\n",
    "In the first iteration, the left boundary is $ 1^2 = 1 $, and the right boundary is $ 2^2 = 4 $. \n",
    "\n",
    "Then we perform the test: $ (\\frac{1+2}{2})^2 = 2.25 $, which is greater than $ (\\sqrt{2})^2 = 2 $.  \n",
    "\n",
    "Therefore, in the second iteration the left boundary remains $ 1^2 = 1 $, and the right boundary becomes $ \\frac{1+2}{2} = 1.5 $.\n",
    "\n",
    "We do the test again: $ (\\frac{1+1.5}{2})^2 = 1.5625 $. This is less than $ (\\sqrt{2})^2 = 2 $. \n",
    "\n",
    "In the third iteration the left boundary becomes $ \\frac{1+1.5}{2} = 1.25 $, and the right boundary stays $ \\frac{1+2}{2} = 1.5 $.\n",
    "\n",
    "We do the test again: $ (\\frac{1.25+1.5}{2})^2 = 1.890625 $. This is less than $ (\\sqrt{2})^2 = 2 $. \n",
    "\n",
    "In the forth iteration the left boundary becomes $ \\frac{1.25+1.5}{2} = 1.375 $, and the right boundary stays $ \\frac{1+2}{2} = 1.5 $.\n",
    "\n",
    "And so on...\n",
    "___\n",
    "\n",
    "This process may continue until required precision is achieved. \n",
    "\n",
    "For Python built-in data types, while loop may govern the precision improvement process. \n",
    "\n",
    "Let's designate the required precision as $ \\tau $. As long as $ (\\frac{1+x}{2})^2 >= \\tau $, the required precision is not achieved and another iteration is to be performed."
   ]
  },
  {
   "cell_type": "code",
   "execution_count": 66,
   "metadata": {},
   "outputs": [
    {
     "name": "stdout",
     "output_type": "stream",
     "text": [
      "Iteration 49 \t Sqare root of 2 : \t 1.41421356237309492\n"
     ]
    }
   ],
   "source": [
    "# Define number of which sqare root will be approximated\n",
    "number = 2 \n",
    "\n",
    "# Initial boundary conditions:\n",
    "left = 1\n",
    "right = number\n",
    "middle = (left+right) / 2\n",
    "\n",
    "# Define precision\n",
    "precision = 0.000_000_000_000_001 # fourteen decimal places - maximum for this data type\n",
    "\n",
    "\n",
    "# Implementing the logic\n",
    "iteration = 0 \n",
    "\n",
    "# Loop exit condition:\n",
    "while abs(number-middle*middle) >= precision:\n",
    "    \n",
    "    # Testing which half of the range the square root of the number will fall into\n",
    "    if middle*middle > number:\n",
    "        right = middle\n",
    "    else:\n",
    "        left = middle\n",
    "    \n",
    "    # Update the value of the variable 'middle'\n",
    "    middle = (left+right) / 2\n",
    "    \n",
    "    # Update number of iteration\n",
    "    iteration = iteration + 1\n",
    "\n",
    "    # Print out the result\n",
    "print(\"Iteration\", iteration, \"\\t Sqare root of\", number, \": \\t\", '%.17f'%middle)\n",
    "    \n"
   ]
  },
  {
   "cell_type": "markdown",
   "metadata": {},
   "source": [
    "From https://apod.nasa.gov/htmltest/gifcity/sqrt2.1mil:\n",
    "\n",
    "1.4142135623730950488016887242096980785696718753769480731766797379907324784621"
   ]
  },
  {
   "cell_type": "markdown",
   "metadata": {},
   "source": [
    "___\n",
    "## References and bibliography \n",
    "\n",
    "### General \n",
    "\n",
    "- Ian McLoughlin, Assignment Brief, 2020. [pdf] GMIT. Available at: <https://learnonline.gmit.ie/mod/url/view.php?id=102004> [Accessed October 2020].\n",
    "- Ian McLoughlin, Lecturer's notes on square root of 2, 2020. [pdf] GMIT. Available at: <https://learnonline.gmit.ie/mod/url/view.php?id=92022> [Accessed October 2020].\n",
    "\n",
    "### Task 1 related\n",
    "\n",
    "- Taylor series - Wikipedia. [online] Available at: <https://en.wikipedia.org/wiki/Taylor_series> [Accessed October 2020].\n",
    "- Magdalena Lemanska - Taylor series (in Polish) [pdf]. Available at: <http://www.mif.pg.gda.pl/kmd/magda/pdfy/kalinowski.pdf> [Accessed October 2020].\n",
    "- Mateusz Kowalski - Matematyka, Wzór Taylora i Maclaurina, Przybliżanie Funkcji (in Polish) [online]. Available at: http://www.kowalskimateusz.pl/matematyka-wzor-taylora-i-maclaurina-przyblizanie-funkcji/ [Accessed October 2020]\n",
    "- The Penn Calc Wiki, Taylor Series [online]. Available at: <http://calculus.seas.upenn.edu/?n=Main.TaylorSeries> [Accessed October 2020]\n",
    "- NASA - Square root of 2 - the first million digits [online]. Available at: <https://apod.nasa.gov/htmltest/gifcity/sqrt2.1mil> [Accessed October 2020]\n"
   ]
  },
  {
   "cell_type": "markdown",
   "metadata": {},
   "source": [
    "___\n",
    "Andrzej Kocielski"
   ]
  }
 ],
 "metadata": {
  "kernelspec": {
   "display_name": "Python 3",
   "language": "python",
   "name": "python3"
  },
  "language_info": {
   "codemirror_mode": {
    "name": "ipython",
    "version": 3
   },
   "file_extension": ".py",
   "mimetype": "text/x-python",
   "name": "python",
   "nbconvert_exporter": "python",
   "pygments_lexer": "ipython3",
   "version": "3.7.5"
  }
 },
 "nbformat": 4,
 "nbformat_minor": 4
}
