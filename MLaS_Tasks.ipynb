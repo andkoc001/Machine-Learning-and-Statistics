{
 "cells": [
  {
   "cell_type": "markdown",
   "metadata": {},
   "source": [
    "# Machine Learning and Statistics - Tasks\n",
    "Assignment Tasks for Machine Learning and Statistics, GMIT 2020\n",
    "\n",
    "Lecturer: dr Ian McLoughlin\n",
    "\n",
    "\n",
    ">Author: **Andrzej Kocielski**  \n",
    ">Github: [andkoc001](https://github.com/andkoc001/)  \n",
    ">Email: G00376291@gmit.ie, and.koc001@gmail.com\n",
    "\n",
    "Created: 05-10-2020\n",
    "\n",
    "This Notebook should be read in conjunction with the corresponding `README.md` file at the project [repository](https://github.com/andkoc001/Machine-Learning-and-Statistics.git) at GitHub."
   ]
  },
  {
   "cell_type": "markdown",
   "metadata": {},
   "source": [
    "## Task 1\n",
    "\n",
    "Objectives: __Print on screen the square root of 2 to 100 decimal places__."
   ]
  },
  {
   "cell_type": "markdown",
   "metadata": {},
   "source": [
    "### Method A - Newton's method\n",
    "Based on the Lecturer's introduction to the task #1 (<https://github.com/ianmcloughlin/playing-with-jupyter/blob/main/playing-with-jupyter.ipynb>).\n",
    "\n",
    "The square root $z$ of a number $x$ is calculated by iterating the following equation.\n",
    "\n",
    "$$ z_{next} = z - \\frac{z^2 - x}{2z} $$"
   ]
  },
  {
   "cell_type": "code",
   "execution_count": 245,
   "metadata": {},
   "outputs": [],
   "source": [
    "# From https://github.com/ianmcloughlin/playing-with-jupyter/blob/main/playing-with-jupyter.ipynb\n",
    "\n",
    "def sqrt(x):\n",
    "    \"\"\"\n",
    "    A function to calculate the square root of a number x.\n",
    "    \"\"\"\n",
    "    # Initial guess for the square root z.\n",
    "    z = x / 2\n",
    "    \n",
    "    def_precision = 10**-15 # maximum default precision\n",
    "    \n",
    "    # Loop until we're happy with the accuracy.\n",
    "    while abs(x - (z * z)) > def_precision:\n",
    "        # Calculate a better guess for the square root.\n",
    "        z -= (z*z - x) / (2 * z)\n",
    "    # Return the (approximate) square root of x.\n",
    "    return z"
   ]
  },
  {
   "cell_type": "code",
   "execution_count": 246,
   "metadata": {},
   "outputs": [
    {
     "data": {
      "text/plain": [
       "1.4142135623730951"
      ]
     },
     "execution_count": 246,
     "metadata": {},
     "output_type": "execute_result"
    }
   ],
   "source": [
    "sqrt(2)"
   ]
  },
  {
   "cell_type": "markdown",
   "metadata": {},
   "source": [
    "### Method A - Taylor Series\n"
   ]
  },
  {
   "cell_type": "markdown",
   "metadata": {},
   "source": [
    "Taylor series can approximate certain class of functions to the required level of precision.\n",
    "\n",
    "General Taylor series equation at $ x = a $:\n",
    "\n",
    "$$ \n",
    "f(x) = f(x_0) + \\frac{f'(x_0)}{1!}(x-x_0) + \\frac{f''(x_0)}{2!}(x-x_0)^2 + \\frac{f'''(x_0)}{3!}(x-x_0)^3+\\dotsb = \\sum_{k=0}^\\infty \\frac{f^{\\left(k\\right)}(x_0)}{k!} (x-x_0)^k\n",
    "$$\n"
   ]
  },
  {
   "cell_type": "markdown",
   "metadata": {},
   "source": [
    "Taylor series at $x = 0$:\n",
    "\n",
    "$$ \n",
    "f(x) = f(0) + \\frac{f'(0)}{1!}x + \\frac{f''(0)}{2!}x^2 + \\frac{f'''(0)}{3!}x^3+\\dotsb = \\sum_{k=0}^\\infty \\frac{f^{\\left(k\\right)}(0)}{k!} x^k\n",
    "$$\n"
   ]
  },
  {
   "cell_type": "markdown",
   "metadata": {},
   "source": [
    "The precision $ p $ is achieved when for the $ k $-th iteration the following inequality is true:\n",
    "\n",
    "$$ \\displaystyle{ \\left|\\frac{(\\sqrt{\\alpha})^{(k+1)}}{(k+1)!}(x-x_0)^{k+1}\\right| < p} $$\n",
    "\n",
    "where $ \\alpha $ is a number between $ 0 $ and $ x $ (for $ f(x) = \\sqrt{x} $ and $ x > 1 $, the largest $ \\alpha = x $). In this exercise, for practical reasons, let $ \\alpha = 4 $."
   ]
  },
  {
   "cell_type": "code",
   "execution_count": null,
   "metadata": {},
   "outputs": [],
   "source": []
  },
  {
   "cell_type": "markdown",
   "metadata": {},
   "source": [
    "### Method B - Division of a range\n",
    "\n",
    "For any real number $ x $, that $ x > 1 $:\n",
    "\n",
    "$$ \\sqrt{x} \\cdot \\sqrt{x} = x $$\n",
    "\n",
    "$$ 1 < \\sqrt{x} < x $$\n",
    "\n",
    "The last equation is an equivalent to $ 1^2 < x < x^2 $.\n",
    "\n",
    "\n",
    "Hence, it is possible to approximate the value of $ \\sqrt{x} $ by iteratively testing into which of the halves of the original range will it fall. This is done by performing the test: \n",
    "\n",
    "$$ (\\sqrt{x})^2 < (\\frac{1+x}{2})^2 $$\n",
    "\n",
    "Then in the next iteration new boundary conditions are assumed. If the test is true, $ \\frac{1+x}{2} $ becomes the right boundary; if the test is false, $ \\frac{1+x}{2} $ becomes the left boundary. This way, the range tightens at each iteration. \n",
    "\n",
    "\n",
    "___\n",
    "Example for $ x = 2 $:\n",
    "\n",
    "The initial conditions is this: $ 1^2 < (\\sqrt{2})^2 < 2^2 $.\n",
    "\n",
    "In the first iteration, the left boundary is $ 1^2 = 1 $, and the right boundary is $ 2^2 = 4 $. \n",
    "\n",
    "Then we perform the test: $ (\\frac{1+2}{2})^2 = 2.25 $, which is greater than $ (\\sqrt{2})^2 = 2 $.  \n",
    "\n",
    "Therefore, in the second iteration the left boundary remains $ 1^2 = 1 $, and the right boundary becomes $ \\frac{1+2}{2} = 1.5 $.\n",
    "\n",
    "We do the test again: $ (\\frac{1+1.5}{2})^2 = 1.5625 $. This is less than $ (\\sqrt{2})^2 = 2 $. \n",
    "\n",
    "In the third iteration the left boundary becomes $ \\frac{1+1.5}{2} = 1.25 $, and the right boundary stays $ \\frac{1+2}{2} = 1.5 $.\n",
    "\n",
    "We do the test again: $ (\\frac{1.25+1.5}{2})^2 = 1.890625 $. This is less than $ (\\sqrt{2})^2 = 2 $. \n",
    "\n",
    "In the forth iteration the left boundary becomes $ \\frac{1.25+1.5}{2} = 1.375 $, and the right boundary stays $ \\frac{1+2}{2} = 1.5 $.\n",
    "\n",
    "And so on...\n",
    "___\n",
    "\n",
    "This process may continue until required precision is achieved. \n",
    "\n",
    "For Python built-in data types, while loop may govern the precision improvement process. \n",
    "\n",
    "Let's designate the required precision as $ \\tau $. As long as $ (\\frac{1+x}{2})^2 >= \\tau $, the required precision is not achieved and another iteration is to be performed."
   ]
  },
  {
   "cell_type": "code",
   "execution_count": 66,
   "metadata": {},
   "outputs": [
    {
     "name": "stdout",
     "output_type": "stream",
     "text": [
      "Iteration 49 \t Sqare root of 2 : \t 1.41421356237309492\n"
     ]
    }
   ],
   "source": [
    "# Define number of which sqare root will be approximated\n",
    "number = 2 \n",
    "\n",
    "# Initial boundary conditions:\n",
    "left = 1\n",
    "right = number\n",
    "middle = (left+right) / 2\n",
    "\n",
    "# Define precision\n",
    "precision = 0.000_000_000_000_001 # fourteen decimal places - maximum for this data type\n",
    "\n",
    "\n",
    "# Implementing the logic\n",
    "iteration = 0 \n",
    "\n",
    "# Loop exit condition:\n",
    "while abs(number-middle*middle) >= precision:\n",
    "    \n",
    "    # Testing which half of the range the square root of the number will fall into\n",
    "    if middle*middle > number:\n",
    "        right = middle\n",
    "    else:\n",
    "        left = middle\n",
    "    \n",
    "    # Update the value of the variable 'middle'\n",
    "    middle = (left+right) / 2\n",
    "    \n",
    "    # Update number of iteration\n",
    "    iteration = iteration + 1\n",
    "\n",
    "    # Print out the result\n",
    "print(\"Iteration\", iteration, \"\\t Sqare root of\", number, \": \\t\", '%.17f'%middle)\n",
    "    \n"
   ]
  },
  {
   "cell_type": "markdown",
   "metadata": {},
   "source": [
    "From https://apod.nasa.gov/htmltest/gifcity/sqrt2.1mil:\n",
    "\n",
    "1._4142135623_7309504880_1688724209_6980785696_7187537694_8073176679_7379907324_7846210703_8850387534_3276415727_3"
   ]
  },
  {
   "cell_type": "code",
   "execution_count": 81,
   "metadata": {},
   "outputs": [
    {
     "data": {
      "text/plain": [
       "1.414213562373095"
      ]
     },
     "execution_count": 81,
     "metadata": {},
     "output_type": "execute_result"
    }
   ],
   "source": [
    "# Verbatim from https://medium.com/@surajregmi/how-to-calculate-the-square-root-of-a-number-newton-raphson-method-f8007714f64\n",
    "\n",
    "def mySqrt(x):\n",
    "\n",
    "    r = x\n",
    "    precision = 10 ** (-15) # maximum!\n",
    "    \n",
    "    while abs(x - r * r) > precision:\n",
    "        r = (r + x / r) / 2\n",
    "        \n",
    "    return r\n",
    "\n",
    "\n",
    "mySqrt(2)"
   ]
  },
  {
   "cell_type": "markdown",
   "metadata": {},
   "source": [
    "### Method C - Newton's method with binary shift\n",
    "Adapted from https://stackoverflow.com/a/28151578"
   ]
  },
  {
   "cell_type": "code",
   "execution_count": 218,
   "metadata": {},
   "outputs": [
    {
     "name": "stdout",
     "output_type": "stream",
     "text": [
      "The Square Root of 2.0 * 10000000000000000000000000000000000000000000000000000000000000000000000000000000000000000000000000000\n",
      "14142135623730950488016887242096980785696718753769480731766797379907324784621070388503875343276415727\n"
     ]
    }
   ],
   "source": [
    "### Method C - Newton's method\n",
    "# Adapted from https://stackoverflow.com/a/28151578# Adapted from https://stackoverflow.com/a/28151578\n",
    "''' Long integer square roots. Newton's method.\n",
    "    Written by PM 2Ring. Adapted from C to Python 2008.10.19\n",
    "'''\n",
    "\n",
    "def root(m):\n",
    "    # Get initial approximation\n",
    "    n, a, k = m, 1, 0\n",
    "    while n > a:\n",
    "        n >>= 1\n",
    "        a <<= 1\n",
    "        k += 1\n",
    "        #print('\\', k, ':', n, a)\n",
    "\n",
    "    # Go back one step & average\n",
    "    a = n + (a>>2)\n",
    "    #print(a)\n",
    "\n",
    "    # Apply Newton's method\n",
    "    while k:\n",
    "        a = (a + m // a) >> 1\n",
    "        k >>= 1\n",
    "        #print(k, ':', a)\n",
    "    return a\n",
    "\n",
    "def main():\n",
    "    number = 2\n",
    "    precision = 100\n",
    "    factor  = 10 ** (number * precision)\n",
    "    m =  number * factor\n",
    "    print(\"The Square Root of\", m/factor, \"*\", (10 ** precision) ** 1)\n",
    "    print(root(m))\n",
    "\n",
    "if __name__ == '__main__':\n",
    "    main()"
   ]
  },
  {
   "cell_type": "markdown",
   "metadata": {},
   "source": [
    "From https://apod.nasa.gov/htmltest/gifcity/sqrt2.1mil:\n",
    "\n",
    "1.4142135623_7309504880_1688724209_6980785696_7187537694_8073176679_7379907324_7846210703_8850387534_3276415727_3"
   ]
  },
  {
   "cell_type": "markdown",
   "metadata": {},
   "source": [
    "___\n",
    "## References and bibliography \n",
    "\n",
    "### General \n",
    "\n",
    "- Ian McLoughlin, Assignment Brief, 2020. [pdf] GMIT. Available at: <https://learnonline.gmit.ie/mod/url/view.php?id=102004> [Accessed October 2020].\n",
    "- Ian McLoughlin, Lecturer's notes on square root of 2, 2020. [pdf] GMIT. Available at: <https://learnonline.gmit.ie/mod/url/view.php?id=92022> [Accessed October 2020].\n",
    "\n",
    "### Task 1 related\n",
    "\n",
    "- Ian McaLoughlin - Introduction to the task #1, 2020 [online]. Available at <https://github.com/ianmcloughlin/playing-with-jupyter/blob/main/playing-with-jupyter.ipynb> [Accessed October 2020]\n",
    "- Taylor series - Wikipedia. [online] Available at: <https://en.wikipedia.org/wiki/Taylor_series> [Accessed October 2020].\n",
    "- Magdalena Lemanska - Taylor series (in Polish) [pdf]. Available at: <http://www.mif.pg.gda.pl/kmd/magda/pdfy/kalinowski.pdf> [Accessed October 2020].\n",
    "- Mateusz Kowalski - Matematyka, Wzór Taylora i Maclaurina, Przybliżanie Funkcji (in Polish) [online]. Available at: http://www.kowalskimateusz.pl/matematyka-wzor-taylora-i-maclaurina-przyblizanie-funkcji/ [Accessed October 2020]\n",
    "- The Penn Calc Wiki, Taylor Series [online]. Available at: <http://calculus.seas.upenn.edu/?n=Main.TaylorSeries> [Accessed October 2020]\n",
    "- NASA - Square root of 2 - the first million digits [online]. Available at: <https://apod.nasa.gov/htmltest/gifcity/sqrt2.1mil> [Accessed October 2020]\n",
    "- Python manual on Decimal library [online]. Available at: <https://docs.python.org/3/library/decimal.html> [Accessed October 2020]\n",
    "- Python manual on BitwiseOperations [online]. Available at: <https://wiki.python.org/moin/BitwiseOperators> [Accessed October 2020]\n",
    "- Stack Overflow - find as many digits of the square root of 2 as possible [online]. Available at: <https://stackoverflow.com/a/15434306> [Accessed October 2020]"
   ]
  },
  {
   "cell_type": "markdown",
   "metadata": {},
   "source": [
    "___\n",
    "Andrzej Kocielski"
   ]
  }
 ],
 "metadata": {
  "kernelspec": {
   "display_name": "Python 3",
   "language": "python",
   "name": "python3"
  },
  "language_info": {
   "codemirror_mode": {
    "name": "ipython",
    "version": 3
   },
   "file_extension": ".py",
   "mimetype": "text/x-python",
   "name": "python",
   "nbconvert_exporter": "python",
   "pygments_lexer": "ipython3",
   "version": "3.7.5"
  }
 },
 "nbformat": 4,
 "nbformat_minor": 4
}
