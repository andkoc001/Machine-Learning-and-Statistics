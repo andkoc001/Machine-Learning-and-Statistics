{
 "cells": [
  {
   "cell_type": "markdown",
   "metadata": {},
   "source": [
    "# Machine Learning and Statistics - Tasks\n",
    "Assignment Tasks for Machine Learning and Statistics, GMIT 2020\n",
    "\n",
    "Lecturer: dr Ian McLoughlin\n",
    "\n",
    "\n",
    ">Author: **Andrzej Kocielski**  \n",
    ">Github: [andkoc001](https://github.com/andkoc001/)  \n",
    ">Email: G00376291@gmit.ie, and.koc001@gmail.com\n",
    "\n",
    "Created: 05-10-2020\n",
    "\n",
    "This Notebook should be read in conjunction with the corresponding `README.md` file at the project [repository](https://github.com/andkoc001/Machine-Learning-and-Statistics.git) at GitHub."
   ]
  },
  {
   "cell_type": "markdown",
   "metadata": {},
   "source": [
    "## Task 1\n",
    "\n",
    "Objectives: __Print on screen the square root of 2 to 100 decimal places__."
   ]
  },
  {
   "cell_type": "markdown",
   "metadata": {},
   "source": [
    "### Method A - Taylor Series\n"
   ]
  },
  {
   "cell_type": "markdown",
   "metadata": {},
   "source": [
    "Taylor series can approximate certain class of functions to the required level of accuracy.\n",
    "\n",
    "General Taylor series equation at $ x = a $:\n",
    "\n",
    "$$ \n",
    "f(x) = f(a) + \\frac{f'(a)}{1!}(x-a) + \\frac{f''(a)}{2!}(x-a)^2 + \\frac{f'''(a)}{3!}(x-a)^3+\\dotsb = \\sum_{k=0}^\\infty \\frac{f^{\\left(k\\right)}(a)}{k!} (x-a)^k\n",
    "$$\n"
   ]
  },
  {
   "cell_type": "markdown",
   "metadata": {},
   "source": [
    "Taylor series at $x = 0$:\n",
    "\n",
    "$$ \n",
    "f(x) = f(0) + \\frac{f'(0)}{1!}x + \\frac{f''(0)}{2!}x^2 + \\frac{f'''(0)}{3!}x^3+\\dotsb = \\sum_{k=0}^\\infty \\frac{f^{\\left(k\\right)}(0)}{k!} x^k\n",
    "$$\n"
   ]
  },
  {
   "cell_type": "markdown",
   "metadata": {},
   "source": [
    "For $f(x) = \\sqrt{x}$ :\n",
    "\n",
    "$$\n",
    "\\sqrt{x} = \\sqrt{x_0} + \\frac12x_0^{-\\frac12}(x-x_0) - \\frac18x_0^{-\\frac32}(x-x_0)^2 + \\cdots + \\frac{(-1)^{n+1}(2n-3)!!} {2^nn!}x_0^{\\frac{1-2n}2}(x-x_0)^n + \\cdots\n",
    "$$\n",
    "\n"
   ]
  },
  {
   "cell_type": "code",
   "execution_count": null,
   "metadata": {},
   "outputs": [],
   "source": []
  },
  {
   "cell_type": "markdown",
   "metadata": {},
   "source": [
    "### Method B - Division of a range\n",
    "\n",
    "Let's assume _a priori_ that $ 1 < \\sqrt2 < 2 $.\n",
    "\n",
    "From Pythagoras' Theorem:\n",
    "\n",
    "$$c \\cdot c = a^{2} + b^{2} $$\n",
    "\n",
    "\n",
    "For $a = b = 1$, we know that: \n",
    "\n",
    "$$ \\sqrt2 \\cdot \\sqrt2 = 1^{2} + 1^{2} = 2 $$\n",
    "\n",
    "\n",
    "\n"
   ]
  },
  {
   "cell_type": "code",
   "execution_count": null,
   "metadata": {},
   "outputs": [],
   "source": []
  },
  {
   "cell_type": "markdown",
   "metadata": {},
   "source": [
    "### Method C - area of 'half-square'\n",
    "\n",
    "The area of a square of side length $ a = 1 $ is $ 1 $ (square units). Hence half of the area is ..."
   ]
  },
  {
   "cell_type": "code",
   "execution_count": null,
   "metadata": {},
   "outputs": [],
   "source": []
  },
  {
   "cell_type": "markdown",
   "metadata": {},
   "source": [
    "___\n",
    "## References and bibliography \n",
    "\n",
    "### General \n",
    "\n",
    "- Ian McLoughlin, Assignment Brief, 2020. [pdf] GMIT. Available at: <https://learnonline.gmit.ie/mod/url/view.php?id=102004> [Accessed October 2020].\n",
    "- Ian McLoughlin, Lecturer's notes on square root of 2, 2020. [pdf] GMIT. Available at: <https://learnonline.gmit.ie/mod/url/view.php?id=92022> [Accessed October 2020].\n",
    "\n",
    "### Task 1 related\n",
    "\n",
    "- Taylor series - Wikipedia. [online] Available at: <https://en.wikipedia.org/wiki/Taylor_series> [Accessed October 2020].\n",
    "- Magdalena Lemanska - Taylor series (in Polish) [pdf]. Available at: <http://www.mif.pg.gda.pl/kmd/magda/pdfy/kalinowski.pdf> [Accessed October 2020].\n",
    "- Mateusz Kowalski - Matematyka, Wzór Taylora i Maclaurina, Przybliżanie Funkcji (in Polish) [online]. Available at: http://www.kowalskimateusz.pl/matematyka-wzor-taylora-i-maclaurina-przyblizanie-funkcji/ [Accessed October 2020]\n",
    "- The Penn Calc Wiki, Taylor Series [online]. Available at: <http://calculus.seas.upenn.edu/?n=Main.TaylorSeries> [Accessed October 2020]"
   ]
  },
  {
   "cell_type": "markdown",
   "metadata": {},
   "source": [
    "___\n",
    "Andrzej Kocielski"
   ]
  }
 ],
 "metadata": {
  "kernelspec": {
   "display_name": "Python 3",
   "language": "python",
   "name": "python3"
  },
  "language_info": {
   "codemirror_mode": {
    "name": "ipython",
    "version": 3
   },
   "file_extension": ".py",
   "mimetype": "text/x-python",
   "name": "python",
   "nbconvert_exporter": "python",
   "pygments_lexer": "ipython3",
   "version": "3.7.5"
  }
 },
 "nbformat": 4,
 "nbformat_minor": 4
}
