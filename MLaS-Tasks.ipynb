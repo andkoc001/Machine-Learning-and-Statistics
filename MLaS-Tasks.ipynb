{
 "cells": [
  {
   "cell_type": "markdown",
   "metadata": {},
   "source": [
    "# Machine Learning and Statistics - Tasks\n",
    "Assignment Tasks for Machine Learning and Statistics, GMIT 2020\n",
    "\n",
    "Lecturer: dr Ian McLoughlin\n",
    "\n",
    "\n",
    ">Author: **Andrzej Kocielski**  \n",
    ">Github: [andkoc001](https://github.com/andkoc001/)  \n",
    ">Email: G00376291@gmit.ie, and.koc001@gmail.com\n"
   ]
  },
  {
   "cell_type": "markdown",
   "metadata": {},
   "source": [
    "___\n",
    "## Introduction\n",
    "\n",
    "This notebook forms a part of assignment to the Machine Lerning and Statistics module.\n",
    "\n",
    "The notebook consist of discussion on four problems (tasks):\n",
    "\n",
    "* Task 1 - Print on screen the square root of 2 to 100 decimal places, without use of external libraries.\n",
    "* Task 2 - Verify the value of the $ 𝜒2 $ (chi-squared) test for a sample dataset and calculate the associated $ 𝑝 $ value.\n",
    "* Task 3 - Simulate Excel function STDEC.S and STDEV.P using Numpy and explain advantages of the former.\n",
    "* Task 4 - Apply k-means clustering algorithm to _Fisher's Iris_ data set using scikit-learn.\n",
    "\n",
    "Detailed tasks description is available in the [assessment.pdf](https://github.com/andkoc001/Machine-Learning-and-Statistics/blob/main/assessment.pdf) file.\n",
    "\n",
    "This Notebook should be read in conjunction with the corresponding `README.md` file at the project [repository](https://github.com/andkoc001/Machine-Learning-and-Statistics.git) at GitHub."
   ]
  },
  {
   "cell_type": "markdown",
   "metadata": {},
   "source": [
    "___\n",
    "# Task 1 - square root\n",
    "\n",
    "### Objectives\n",
    "__Print on screen the square root of 2 to 100 decimal places, without use of external libraries__.\n",
    "\n",
    "Write a Python function that calculates and prints to the screen the square root of 2 to 100 decimal places. The code should not depend on any module from the standard library or otherwise."
   ]
  },
  {
   "cell_type": "markdown",
   "metadata": {},
   "source": [
    "### Division of a range method\n",
    "\n",
    "For any real number $ x $, that $ x > 1 $:\n",
    "\n",
    "$$ \\sqrt{x} \\cdot \\sqrt{x} = x $$\n",
    "\n",
    "$$ 1 < \\sqrt{x} < x $$\n",
    "\n",
    "<br/>The last formula is an equivalent to $ 1^2 < (\\sqrt{x})^2 < x^2 $. \n",
    "\n",
    "It can be further shown that the upper limitation follows the formula: $ \\sqrt{x} < \\frac{1+x}{2} $.\n",
    "\n",
    "Hence, it is possible to approximate the value of $ \\sqrt{x} $ by iteratively testing into which of the halves of the original range will it fall. This is done by performing the test: \n",
    "\n",
    "$$ (\\sqrt{x})^2 < (\\frac{1+x}{2})^2 $$\n",
    "\n",
    "Then in the next iteration new boundary conditions are assumed. If the test is true, $ \\frac{1+x}{2} $ becomes the right boundary; if the test is false, $ \\frac{1+x}{2} $ becomes the left boundary. This way, the range tightens, increasing the precision, at each iteration.\n",
    "\n",
    "\n",
    "___\n",
    "**Example for $ x = 2 $:\n",
    "\n",
    "The initial conditions is this: $ 1^2 < (\\sqrt{2})^2 < 2^2 $.\n",
    "\n",
    "In the first iteration, the left boundary is $ 1^2 = 1 $, and the right boundary is $ 2^2 = 4 $. \n",
    "\n",
    "Then we perform the test: $ (\\frac{1+2}{2})^2 = 2.25 $, which is greater than $ (\\sqrt{2})^2 = 2 $.  \n",
    "\n",
    "Therefore, in the second iteration the left boundary remains $ 1^2 = 1 $, and the right boundary becomes $ \\frac{1+2}{2} = 1.5 $.\n",
    "\n",
    "We do the test again: $ (\\frac{1+1.5}{2})^2 = 1.5625 $. This is less than $ (\\sqrt{2})^2 = 2 $. \n",
    "\n",
    "In the third iteration the left boundary becomes $ \\frac{1+1.5}{2} = 1.25 $, and the right boundary stays $ \\frac{1+2}{2} = 1.5 $.\n",
    "\n",
    "We do the test again: $ (\\frac{1.25+1.5}{2})^2 = 1.890625 $. This is less than $ (\\sqrt{2})^2 = 2 $. \n",
    "\n",
    "In the forth iteration the left boundary becomes $ \\frac{1.25+1.5}{2} = 1.375 $, and the right boundary stays $ \\frac{1+2}{2} = 1.5 $.\n",
    "\n",
    "And so on...\n",
    "___\n",
    "\n",
    "This process may continue until required precision is achieved. \n",
    "\n",
    "For Python built-in data types, _while_ loop may govern the precision improvement process. However, Python allows only precision only to 15 digits precision.\n",
    "\n",
    "Let's designate the required precision as $ \\tau $. As long as $ (\\frac{1+x}{2})^2 >= \\tau $, the required precision is not achieved and another iteration is to be performed."
   ]
  },
  {
   "cell_type": "code",
   "execution_count": 1,
   "metadata": {},
   "outputs": [
    {
     "name": "stdout",
     "output_type": "stream",
     "text": [
      "Iteration  49, The sqare root of 2: 1.414213562373095\n"
     ]
    }
   ],
   "source": [
    "# Define number of which sqare root will be approximated\n",
    "number = 2\n",
    "\n",
    "# Define decimal places precision\n",
    "precision = 15 # fiveteen decimal places appears to be the maximum for this data type\n",
    "\n",
    "# Initial boundary conditions:\n",
    "left = 1\n",
    "right = number\n",
    "middle = (left+right) / 2\n",
    "\n",
    "# Implementing the logic\n",
    "iteration = 0 \n",
    "\n",
    "# Loop exit condition, i.e. requested precision is achieved\n",
    "while abs(number-middle*middle) >= 10**-precision:\n",
    "    \n",
    "    # Testing which half of the range the square root of the number will fall into; tightening the boundaries\n",
    "    if middle*middle > number:\n",
    "        # if the condition is satisfied, the right boundary is changed to the previous mid-point\n",
    "        right = middle\n",
    "        \n",
    "    else:\n",
    "        # if the condition is not satisfied, the left boundaries is changed to the previous mid-point\n",
    "        left = middle\n",
    "    \n",
    "    # Update the value of the variable 'middle'\n",
    "    middle = (left+right) / 2\n",
    "    \n",
    "    # Update number of iteration\n",
    "    iteration = iteration + 1\n",
    "\n",
    "    # Print out intermediate results for each iteration\n",
    "    # print(f\"Iteration {iteration:3}, left: {left:18}, Sqare root: {middle:.16}, \\tright: {right:18}\")\n",
    "\n",
    "\n",
    "# Print out the result\n",
    "\n",
    "print(f\"Iteration {iteration:3}, The sqare root of {number}: {middle:.16}\")  "
   ]
  },
  {
   "cell_type": "markdown",
   "metadata": {},
   "source": [
    "### Arbitrary precision\n",
    "\n",
    "The above method works fine, however, due to build-in data types limitations, the approximation is limited only to a certain precision ([Python documentation](https://docs.python.org/3/tutorial/floatingpoint.html)). The required precision can be easily achieved, with the application of a special-purpose data type - [decimal](https://docs.python.org/3/library/decimal.html#module-decimal) - for handling this kind of problems.\n",
    "\n",
    "The true challenge of this task is to show the approximation of square root function with arbitrary assumed precision without using external libraries. There is a number of techniques allowing for achieving required (arbitrary) precision."
   ]
  },
  {
   "cell_type": "markdown",
   "metadata": {},
   "source": [
    "### Bitwise shift\n",
    "\n",
    "One of the method is by the means of bitwise [arythmetic shift](https://en.wikipedia.org/wiki/Arithmetic_shift).\n",
    "\n",
    "`>> 1` is a bitwise right shift, e.g. \"divide by 2\", `>> 2` would be \"divide by 4\", `>> n` is \"divide by 2**(n)\"  Right shift is an equivalent of powering the number (or squaring) in binary system (https://stackoverflow.com/questions/15557667/square-root-by-bit-shift).\n",
    "\n",
    "![https://i.stack.imgur.com/S5kAd.png](https://i.stack.imgur.com/S5kAd.png)  \n",
    "Image source: [Stack Overflow](https://stackoverflow.com/a/20369990)\n",
    "\n",
    "For square root of 3 in binary (example from [Wikipedia](https://en.wikipedia.org/wiki/Shifting_nth_root_algorithm)):\n",
    "\n",
    "```bash\n",
    "     1. 7  3  2  0  5\n",
    "    ----------------------\n",
    "_  / 3.00 00 00 00 00\n",
    " \\/  1 = 20×0×1+1^2\n",
    "     -\n",
    "     2 00\n",
    "     1 89 = 20×1×7+7^2 (27 x 7)\n",
    "     ----\n",
    "       11 00\n",
    "       10 29 = 20×17×3+3^2  (343 x 3)\n",
    "       -----\n",
    "          71 00\n",
    "          69 24 = 20×173×2+2^2 (3462 x 2)\n",
    "          -----\n",
    "           1 76 00\n",
    "                 0 = 20×1732×0+0^2 (34640 x 0)\n",
    "           -------\n",
    "           1 76 00 00\n",
    "           1 73 20 25 = 20×17320×5+5^2 (346405 x 5)\n",
    "           ----------\n",
    "              2 79 75\n",
    "```\n",
    "\n",
    "Below application of the binary shift method for approximation of square root is adopted from https://stackoverflow.com/a/28151578."
   ]
  },
  {
   "cell_type": "code",
   "execution_count": 2,
   "metadata": {
    "scrolled": true
   },
   "outputs": [
    {
     "name": "stdout",
     "output_type": "stream",
     "text": [
      "The Square Root of 2.0:\n",
      "1.414213562373095048801688724209698078569671875376948073176679737990732478462107038850387534327641572\n"
     ]
    }
   ],
   "source": [
    "### Method C - Newton's method\n",
    "# Adapted from https://stackoverflow.com/a/28151578\n",
    "''' Long integer square roots. Newton's method.\n",
    "    Written by PM 2Ring. Adapted from C to Python 2008.10.19\n",
    "'''\n",
    "\n",
    "# the algorithm\n",
    "\n",
    "def root(m):\n",
    "    \n",
    "    # Get initial approximation\n",
    "    n, a, k = m, 1, 0\n",
    "    \n",
    "    while n > a:\n",
    "        n >>= 1\n",
    "        a <<= 1\n",
    "        k += 1\n",
    "        #print('\\', k, ':', n, a) # for debugging\n",
    "\n",
    "    # Go back one step & average\n",
    "    a = n + (a>>2)\n",
    "    \n",
    "    #print(a) # for debugging\n",
    "\n",
    "    # Apply Newton's method\n",
    "    \n",
    "    while k:\n",
    "        a = (a + m // a) >> 1\n",
    "        k >>= 1\n",
    "        #print(k, ':', a) # for debugging\n",
    "    \n",
    "    result = a\n",
    "    return result\n",
    "\n",
    "# body of the main function\n",
    "def main():\n",
    "    \n",
    "    # number to be square rooted, between 1 and 99 - outside the range there is possible error notation, beyond the scope of this task\n",
    "    number = 2\n",
    "    \n",
    "    # number of decimal places to be shown\n",
    "    precision = 100\n",
    "    \n",
    "    factor  = 10 ** (number * precision)\n",
    "    m =  number * factor\n",
    "    \n",
    "    # print the result converted to a string\n",
    "    string_result = str(root(m))\n",
    "    \n",
    "    # Check if the number is in the requested range\n",
    "    if 1 <= number < 100:\n",
    "        \n",
    "        # take the first digit followed by a dot\n",
    "        result = string_result[0:1] + \".\"\n",
    "        \n",
    "        # take the remaining digits up to set precision\n",
    "        for i in string_result[1:precision]:\n",
    "            result = result + i\n",
    "    \n",
    "        print(\"The Square Root of \" + str(m/factor) + \":\")\n",
    "        print(result)\n",
    "                \n",
    "    else:\n",
    "        print(\"Choose number to be squared between 1 and 99\")\n",
    "        \n",
    "# execute only if run as a script\n",
    "if __name__ == '__main__':\n",
    "    main()"
   ]
  },
  {
   "cell_type": "markdown",
   "metadata": {},
   "source": [
    "### Square root by subtraction method\n",
    "\n",
    "The algorithm has been described by Frazer Jarvis in his paper [Square root by subtraction](http://www.afjarvis.staff.shef.ac.uk/maths/jarvisspec02.pdf).\n",
    "\n",
    "Although this method converges slower than Newtons' method, it's advantage is that, \"when finding square roots of integers, no infinite decimals are involved at any step, which can cause loss of precision due to rounding errors\" ([ditto](http://www.afjarvis.staff.shef.ac.uk/maths/jarvisspec02.pdf)).\n",
    "\n",
    "The algorithm is follows.\n",
    "\n",
    "1) Initially, assume values of a and b:\n",
    "\n",
    "`left = 5x`, where `x` is the number, which square root is being approximated and `right = 5` \n",
    "\n",
    "2) Then iteratively repeated these steps:\n",
    "\n",
    "If `left ≥ right`, replace `left` with `left − right`, and add 10 to `right`.  \n",
    "\n",
    "If `left < right`, add two zeros to the end of `left`, and add a zero to `right` just before\n",
    "the final digit (which will always be ‘5’).\n",
    "\n",
    "Keep repeating the above, until the digits of `right` gets sufficiently closely the digits of the square\n",
    "root of `x`."
   ]
  },
  {
   "cell_type": "code",
   "execution_count": 3,
   "metadata": {
    "scrolled": true
   },
   "outputs": [
    {
     "name": "stdout",
     "output_type": "stream",
     "text": [
      "The Square Root of 2:\n",
      "1.414213562373095048801688724209698078569671875376948073176679737990732478462107038850387534327641572\n"
     ]
    }
   ],
   "source": [
    "# Adapted from https://www.mathblog.dk/project-euler-80-digits-irrational-square-roots/\n",
    "\n",
    "def Squareroot(n, prec):\n",
    "\n",
    "    # Set the required parameters\n",
    "    limit = 10**(prec+1) # extra precision to avoid rounding error\n",
    "    left = 5 * n\n",
    "    right = 5\n",
    " \n",
    "    while right < limit:\n",
    "        \n",
    "        if left >= right:\n",
    "            left -= right\n",
    "            right += 10\n",
    "            \n",
    "        else:\n",
    "            left *= 100\n",
    "            right = 10 * right - 45;\n",
    "       \n",
    "    return right;\n",
    "\n",
    "\n",
    "\n",
    "# body of the main function\n",
    "def main():\n",
    "    \n",
    "    # number to be square-rooted, between 1 and 99 - outside the range there is possible error notation, beyond the scope of this task\n",
    "    number = 2\n",
    "    \n",
    "    # number of decimal places to be shown\n",
    "    precision = 100\n",
    "    \n",
    "    # call the main algorithm and print the result converted to a string\n",
    "    string_result = str(Squareroot(number, precision))\n",
    "    \n",
    "    # Check if the number is in the requested range\n",
    "    if 1 <= number < 100:\n",
    "        \n",
    "        # take the first digit followed by a dot\n",
    "        result = string_result[0:1] + \".\"\n",
    "        \n",
    "        iteration = 0      \n",
    "        # take the remaining digits up to set precision\n",
    "        for i in string_result[1:precision]:\n",
    "            result = result + i\n",
    "            iteration += 1\n",
    "            # print(f\"Iter: {iteration:3}: {result}\") # for debugging\n",
    "               \n",
    "        # print(\"Declared precision (including the digits before decimal point):\", len(result))\n",
    "        print(\"The Square Root of \" + str(number) + \":\")\n",
    "        print(result)\n",
    "                \n",
    "    else:\n",
    "        print(\"Choose number to be squared between 1 and 99\")\n",
    "        \n",
    "        \n",
    "# execute only if run as a script\n",
    "if __name__ == '__main__':\n",
    "    main()"
   ]
  },
  {
   "cell_type": "markdown",
   "metadata": {},
   "source": [
    "### Result verification\n",
    "\n",
    "The results from the above methods can be verified against the approximation of first one million digits of $\\sqrt{2}$ published at https://apod.nasa.gov/htmltest/gifcity/sqrt2.1mil. Here, the first 102 digits (including that on the left of the decimal) is shown:\n",
    "\n",
    "$ \\sqrt{2} $= 1.4142 13562  37309 50488  01688 72420  96980 78569  67187 53769  48073 17667  97379 90732  47846 21070  38850 38753  43276 41572 73 \n",
    "\n",
    "Thus, both of the applied methods produce results that are accurate to the specified precision."
   ]
  },
  {
   "cell_type": "markdown",
   "metadata": {},
   "source": [
    "___\n",
    "### References - Task 1 related\n",
    "\n",
    "- Wikipedia contributors - Taylor series. [online] Available at: <https://en.wikipedia.org/wiki/Taylor_series> [Accessed December 2020].\n",
    "- Mateusz Kowalski - Matematyka, Wzór Taylora i Maclaurina, Przybliżanie Funkcji (in Polish) [online]. Available at: http://www.kowalskimateusz.pl/matematyka-wzor-taylora-i-maclaurina-przyblizanie-funkcji/ [Accessed December 2020]\n",
    "- The Penn Calc Wiki, Taylor Series [online]. Available at: <http://calculus.seas.upenn.edu/?n=Main.TaylorSeries> [Accessed December 2020]\n",
    "- NASA - Square root of 2 - the first million digits [online]. Available at: <https://apod.nasa.gov/htmltest/gifcity/sqrt2.1mil> [Accessed December 2020]\n",
    "- Python manual on Decimal library [online]. Available at: <https://docs.python.org/3/library/decimal.html> [Accessed December 2020]\n",
    "- Python manual on Bitwise Operations [online]. Available at: <https://wiki.python.org/moin/BitwiseOperators> [Accessed December 2020]\n",
    "- Stack Overflow - find as many digits of the square root of 2 as possible [online]. Available at: <https://stackoverflow.com/a/15434306> [Accessed December 2020]\n",
    "- Wikipedia contributors - Arithmetic shift. [online] Available at: <https://en.wikipedia.org/wiki/Arithmetic_shift> [Accessed December 2020].\n",
    "- Wikipedia contributors - Shifting nth root algorithm. [online] Available at: <https://en.wikipedia.org/wiki/Shifting_nth_root_algorithm> [Accessed December 2020].\n",
    "- Chris Lomont, 2003 - Fast Inverse Square Root[pdf]. Available at: <http://www.lomont.org/papers/2003/InvSqrt.pdf> [Accessed December 2020]\n",
    "- Frazer Jarvis, 2005 - Square root by subtraction [pdf]. Available at: <http://www.afjarvis.staff.shef.ac.uk/maths/jarvisspec02.pdf> [Accessed December 2020]"
   ]
  },
  {
   "cell_type": "markdown",
   "metadata": {},
   "source": []
  },
  {
   "cell_type": "markdown",
   "metadata": {},
   "source": [
    "___\n",
    "# Task 2 - Chi-square test\n",
    "\n",
    "### Objectives\n",
    "__Verify the value of the $ {\\chi}^2 $ (chi-squared) test for a sample dataset and calculate the associated $ p $ value__.\n",
    "\n",
    "Use `scipy.stats` to verify this value and calculate the associated $ p $ value. You should include a short note with references justifying your analysis in a markdown cell.\n"
   ]
  },
  {
   "cell_type": "markdown",
   "metadata": {},
   "source": [
    "### The Chi-squared test\n",
    "\n",
    "The chi-squared test is a statistical tool suitable for categorical data values (for instance, colour or academic degree or dog breeds). It can be used for three applications, although in essence they test similar things: 1) the goodness of fit test (how one category data fits the distribution), 2) test for homogeneity (likelihood of different samples coming from the same population) and 3) test of independence [YouTube - Crash Course Statistics](https://www.youtube.com/watch?v=7_cs1YlZoug). \n",
    "\n",
    "For this task, Chi-squared **Test of independence** applies. Test of independence attempts to answer whether, in statistical terms, being a member of one category is independent of another. In other words, \"the chi-square independence test is a procedure for testing if two categorical variables are related in some population\" ([SPSS Tutorials](https://www.spss-tutorials.com/chi-square-independence-test/)).\n",
    "\n",
    "The calculation compares the measured (observed) values against the expected values. The result of the chi-squared test is a numerical value that can be interpreted in such a way that it allows for seeing whether one variable is independent of another. This is often associated with the null hypothesis, and if the results are satisfactory, the null hypothesis is considered true. Otherwise, the alternative hypothesis prevails.\n",
    "\n",
    "A generic formula of the Chi-squared test is like this (from [Wikipedia](https://en.wikipedia.org/wiki/Chi-squared_test)):\n",
    "\n",
    "$$ {\\chi}^2 = \\sum_{k=1}^{n} \\frac{(O_k - E_k)^2}{E_k}\\ $$\n",
    "\n",
    "where:  \n",
    "$ n $ - number of categories,  \n",
    "$ O $ - measurement from observation,  \n",
    "$ E $ - expected value if the null hypothesis is true.\n",
    "\n",
    "It is also worth noting that, in order to render the independence test viable, the expected value $ E_k > 5 $. Although that value is assumed arbitrarily, it is commonly used for practical application.\n",
    "\n",
    "Also 'degrees of freedom' is required for assessing the independence test. The general formula for the degrees of freedom for tabularised data is as follows:\n",
    "\n",
    "$$ df = (r-1)(c-1) $$\n",
    "    \n",
    "where:  \n",
    "$ df $ - degrees of freedom,  \n",
    "$ r $ - number of rows,  \n",
    "$ c $ - number of columns.\n",
    "\n",
    "The degree of freedom will affect the chi-squared distribution. Sample plots for various degrees of freedom are shown in the figure below.\n",
    "\n",
    "<img src=\"https://spss-tutorials.com/img/chi-square-distributions-different-degrees-of-freedom.png\" alt=\"Chi-squared distribution\" style=\"width: 600px;\"/>  \n",
    "\n",
    "Image source: [SPSS Tutorials ](https://www.spss-tutorials.com/chi-square-independence-test/)\n",
    "\n",
    "\"The value of the chi-square random variable $ {\\chi}^2 $ with degree of freedom $ df = k $ that cuts off a right tail of area c is denoted $ {\\chi}^2_c $ and is called a critical value.\" [Saylor Academy](https://saylordotorg.github.io/text_introductory-statistics/s15-01-chi-square-tests-for-independe.html)\n",
    "\n",
    "<img src=\"https://saylordotorg.github.io/text_introductory-statistics/section_15/34d06306c2e726f6d5cd7479d9736e5e.jpg\" alt=\"Chi-squared critical value\" style=\"width: 440px;\"/>  \n",
    "\n",
    "Image source: [Saylor Academy](https://saylordotorg.github.io/text_introductory-statistics/s15-01-chi-square-tests-for-independe.html)"
   ]
  },
  {
   "cell_type": "markdown",
   "metadata": {},
   "source": [
    "### The problem\n",
    "\n",
    "This task about evaluating the given data in terms of the Chi-squared test and verify the result also already given given in the Wikipedia article on [Chi-squared test](https://en.wikipedia.org/wiki/Chi-squared_test).\n",
    "\n",
    "The data from the above Wikipedia page, describes the test scenario as follows. \"Suppose there is a city of 1,000,000 residents with four neighborhoods: `A`, `B`, `C`, and `D`. A random sample of 650 residents of the city is taken and their occupation is recorded as \"white collar\", \"blue collar\", or \"no collar\". The null hypothesis is that each person's neighborhood of residence is independent of the person's occupational classification. The data is provided in a form of a contingency table as follows: ([Wikipedia](https://en.wikipedia.org/wiki/Chi-squared_test)):\n",
    "\n",
    "|              |  A  |  B  |  C  |  D  | Total |\n",
    "|--------------|-----|-----|-----|-----|-------|\n",
    "| White collar |  90 |  60 | 104 |  95 |  349  |\n",
    "| Blue collar  |  30 |  50 |  51 |  20 |  151  |\n",
    "| No collar    |  30 |  40 |  45 |  35 |  150  |\n",
    "|              |     |     |     |     |       |\n",
    "| Total        | 150 | 150 | 200 | 150 |  650  |\n",
    "\n",
    "The chi-squared test of independence verifies whether or not two categorical variables are independent of each other (statistically meaningful). The test assumes the 'null hypothesis' and the opposing 'alternative hypothesis'.\n",
    "\n",
    "For the given sample data, the hypotheses are as follows (from the Wikipedia article):\n",
    "\n",
    "**Null hypothesis** $ H_0 $ - \"each person's neighborhood of residence is independent of the person's occupational classification\",\n",
    "\n",
    "**Alternative hypothesis** $ H_a $ - there is such a dependency.\n",
    "\n",
    "The result of the test is already given in Wikipedia article: $ {\\chi}^2 $ = 24.6, and so is the degrees of freedom: $ df $ = 6.\n"
   ]
  },
  {
   "cell_type": "markdown",
   "metadata": {},
   "source": [
    "### Calculation\n",
    "\n",
    "The chi-squared test of independence can be calculated using the statistical module `scipy.stats` from [Scipy](https://docs.scipy.org/doc/scipy/reference/stats.html) library for Python.\n",
    "\n",
    "The function `chi2_contingency()` computes the chi-square and the value of $p$ for the hypothesis test of independence. It takes the observed frequencies as an input in a form of an array. As a result the function returns the values of chi-square test (`chi2`), the p-value (`p`), degrees of freedom (`dof`) and the array of the expected frequencies (`expected`).\n"
   ]
  },
  {
   "cell_type": "code",
   "execution_count": 4,
   "metadata": {},
   "outputs": [],
   "source": [
    "# import required libraries\n",
    "import numpy as np\n",
    "from scipy.stats import chi2_contingency"
   ]
  },
  {
   "cell_type": "code",
   "execution_count": 5,
   "metadata": {},
   "outputs": [
    {
     "name": "stdout",
     "output_type": "stream",
     "text": [
      "Chi-squared test: 24.57\n",
      "P-value: 0.00041\n",
      "Degrees of freedom: 6\n",
      "Expected frequencies:\n",
      " [[ 80.53846154  80.53846154 107.38461538  80.53846154]\n",
      " [ 34.84615385  34.84615385  46.46153846  34.84615385]\n",
      " [ 34.61538462  34.61538462  46.15384615  34.61538462]]\n"
     ]
    }
   ],
   "source": [
    "# input the observed data manually into an array\n",
    "data = np.array([[90, 60, 104, 95], [30, 50, 51, 20], [30, 40, 45, 35]])\n",
    "\n",
    "# perform the calculation of the chi-square test of independence\n",
    "chi2, p, dof, expected = chi2_contingency(data)\n",
    "\n",
    "print(f\"Chi-squared test: {chi2:.2f}\")\n",
    "print(f\"P-value: {p:.5f}\")\n",
    "print(f\"Degrees of freedom: {dof}\")\n",
    "print(f\"Expected frequencies:\\n {expected}\")"
   ]
  },
  {
   "cell_type": "markdown",
   "metadata": {},
   "source": [
    "### The results and conclusion\n",
    "\n",
    "The test of independence verifies whether or not there is a statistically meaningful relationship between categorical data. \n",
    "\n",
    "The above calculated results are shown below - the chi-square and the degrees of freedom results are in accord with the information provided in the [Wikipedia](https://en.wikipedia.org/wiki/Chi-squared_tes) page. \n",
    "\n",
    "$ {\\chi}^2 \\approx 24,6 $  \n",
    "$ df = 6 $  \n",
    "$ p \\approx 0.00041 $  \n",
    "\n",
    "Expected values:\n",
    "\n",
    "|              |   A   |   B   |   C   |   D   |\n",
    "|--------------|-------|-------|-------|-------|\n",
    "| White collar |  80.5 |  80.5 | 107.4 |  80.5 | \n",
    "| Blue collar  |  34.8 |  34.8 |  46.5 |  34.8 |\n",
    "| No collar    |  34.6 |  34.6 |  46.1 |  34.6 |\n",
    "|              |       |       |       |       |\n",
    "| Total        | 149.9 | 149.9 | 200.0 | 149.9 |\n",
    "\n",
    "\n",
    "From the data provided by the survey and the calculated results, where the value of the chi-square is relatively large and the p-value is relatively small, we can infer that there is not evidence strong enough to support the null hypothesis statement ([NIST/SEMATECH](https://www.itl.nist.gov/div898/handbook/eda/section3/eda3674.htm)). The distribution of the occupational classification is due to the relationship between the person's neighborhood of residence and the person's occupational classification. In other words, there is relationship between the two categorical variables - they are dependent."
   ]
  },
  {
   "cell_type": "markdown",
   "metadata": {},
   "source": [
    "___\n",
    "### References - Task 2 related\n",
    "\n",
    "- Chi-squared test - Wikipedia contributors [online]. Available at: <https://en.wikipedia.org/wiki/Chi-squared_test> [Accessed December 2020].\n",
    "- Chi-squared test - Wolfram MathWorld contributors. [online] Available at: <https://mathworld.wolfram.com/Chi-SquaredTest.html> [Accessed December 2020].\n",
    "- Chi-squared test of independence - SPSS Tutorials [online]. Available at: <https://www.spss-tutorials.com/chi-square-independence-test/> [Accessed December 2020]\n",
    "- Chi-squared test of independence - Stat Trek [online]. Available at: <https://stattrek.com/chi-square-test/independence.aspx> [Accessed December 2020]\n",
    "- How the Chi-Squared Test of Independence Works - Statistics by Jim [online]. Available at: <https://statisticsbyjim.com/hypothesis-testing/chi-squared-independence/> [Accessed December 2020]\n",
    "- Chi-kwadrat - Statystyka pomoc (in Polish) [online]. Available at: <http://statystyka-pomoc.com/Chi-kwadrat.html> [Accessed December 2020]  \n",
    "- A Gentle Introduction to the Chi-Squared Test for Machine Learning [online]. Available at: <https://machinelearningmastery.com/chi-squared-test-for-machine-learning/> [Accessed December 2020]\n",
    "-Saylor Academy - Introductory statistics, Chi-Square Tests for Independence [online]. Available at: <https://saylordotorg.github.io/text_introductory-statistics/s15-01-chi-square-tests-for-independe.html> [Accessed December 2020]\n",
    "- CrashCourse - Chi-Square Tests: Crash Course Statistics (YouTube), [online] <https://www.youtube.com/watch?v=7_cs1YlZoug> [Accessed December 2020]\n",
    "- Lisa Dierker - Chi-square test - Python (YouTube), [online] Available at: <https://www.youtube.com/watch?v=Pbo7VbHK9cY> [Accessed December 2020]\n",
    "- Statistical functions (scipy.stats) - Scipy documentation [online]. Available at: <https://docs.scipy.org/doc/scipy/reference/stats.html> [Accessed December 2020]\n",
    "- Joshua Cowley - Chi-Square Distribution Table [pdf] Available at: <http://kisi.deu.edu.tr/joshua.cowley/Chi-square-table.pdf> [Accessed December 2020]\n",
    "- NIST/SEMATECH e-Handbook of Statistical Methods - Critical Values of the Chi-Square Distribution [online] Available at: <https://www.itl.nist.gov/div898/handbook/eda/section3/eda3674.htm> [Accessed December 2020]"
   ]
  },
  {
   "cell_type": "markdown",
   "metadata": {},
   "source": []
  },
  {
   "cell_type": "markdown",
   "metadata": {},
   "source": [
    "___\n",
    "# Task 3 - Standard Deviation\n",
    "\n",
    "\n",
    "### Objectives\n",
    "__Simulate Excel function `STDEC.S` and `STDEV.P` using Numpy and explain advantages of the former.__\n",
    "\n",
    "Use NumPy to perform a simulation demonstrating that the STDEV.S calculation is a better estimate for the standard deviation of a population when performed on a sample.\n"
   ]
  },
  {
   "cell_type": "markdown",
   "metadata": {},
   "source": [
    "### Standard deviation\n",
    "\n",
    "_Standard deviation_ (SD) is a statistical concept, with a wide range of application, to measure how the data is spread out around the mean. [Dictionary.com](https://www.dictionary.com/browse/standard-deviation) defines it as \"a measure of dispersion in a frequency distribution, equal to the square root of the mean of the squares of the deviations from the arithmetic mean of the distribution.\"\n",
    "\n",
    "The standard deviation is defined as a square root of the average of the squared differences from the Mean [Mathisfun.com](https://www.mathsisfun.com/data/standard-deviation.html).\n",
    "\n",
    "![Standard Deviation](https://upload.wikimedia.org/wikipedia/commons/f/f9/Comparison_standard_deviations.svg) Image source: [Wikipedia](https://simple.wikipedia.org/wiki/File:Comparison_standard_deviations.svg)\n",
    "\n",
    "  \n",
    "### Population and sample SD\n",
    "\n",
    "There are two main methods of calculating the standard deviation. One that refers to the entire population and the other that consider the data set as a sample of the population. For simplicity, only discrete values are consider in this notebook.\n",
    "\n",
    "The **standard deviation of population** ($\\sigma$), is a measure that could be accurately calculated if the values of the variable were known for all population units; corresponds to the deviation of a random variable whose distribution is identical to the distribution in the population. This kind of standard deviation is often referred as to unbiased or uncorrected.\n",
    "\n",
    "The the formula for population standard deviation ([Mathisfun.com](https://www.mathsisfun.com/data/standard-deviation-formulas.html)):\n",
    "$$\n",
    "\\sigma = \\sqrt{\\frac{1}{N} \\sum_{i=1}^n (x_i - \\mu)^2}\n",
    "$$\n",
    "where:  \n",
    "$N$ is the size of the population,\n",
    "$x_i$ represents the observed value of the i-th member,\n",
    "$\\mu$ denotes population mean.\n",
    "\n",
    "However, if the calculation is based on a part of the population only, the standard deviation of population tends to yield an error. In such cases, standard deviation of sample produces more reliable results. The **standard deviation of sample** ($s$), is a measure that estimates the standard deviation in a population based on the knowledge of only some of its objects, i.e. the random sample. For practical reasons this method is often the only viable option. This kind of standard deviation is often referred as to biased or corrected.\n",
    "\n",
    "The the formula for sample standard deviation ([Mathisfun.com](https://www.mathsisfun.com/data/standard-deviation-formulas.html)):\n",
    "$$\n",
    "s = \\sqrt{\\frac{1}{N-1} \\sum_{i=1}^n (x_i - \\bar{x})^2}\n",
    "$$\n",
    "where $\\bar{x}$ denotes sample mean.\n",
    "\n",
    "The Microsoft Excel's functions `STDEC.S` and `STDEV.P` are used to calculate standard deviation of **sample** and **population** respectively.\n",
    "\n",
    "### Standard deviation in NumPy \n",
    "\n",
    "NumPy library for Python allows for calculating the standard deviation The function `numpy.std()` is used for this purpose. The syntax employed for the calculation takes the following form:  \n",
    "`std = sqrt(mean(abs(x - x.mean())**2))`  \n",
    "where x is value of an observation.\n",
    "\n",
    "NumPy allows for calculating the standard deviation both of population and of sample. The correction is controlled by the function parameter `ddof`, which by default equals zero (standard deviation of population).\n",
    "\n",
    "\"The average squared deviation is normally calculated as `x.sum() / N`, where `N = len(x)`. If, however, `ddof` is specified, the divisor `N - ddof` is used instead. In standard statistical practice, `ddof=1` provides an unbiased estimator of the variance of the infinite population. `ddof=0` provides a maximum likelihood estimate of the variance for normally distributed variables. The standard deviation computed in this function is the square root of the estimated variance, so even with `ddof=1`, it will not be an unbiased estimate of the standard deviation per se\" ([NumPy](https://numpy.org/doc/stable/reference/generated/numpy.std.html))."
   ]
  },
  {
   "cell_type": "code",
   "execution_count": 6,
   "metadata": {},
   "outputs": [],
   "source": [
    "# import NumPy\n",
    "import numpy as np"
   ]
  },
  {
   "cell_type": "markdown",
   "metadata": {},
   "source": [
    "### Simulation\n",
    "\n",
    "The task involves development of a simulation that would allow comparing the results of the standard deviation of population and of sample when performed on a sample.\n",
    "\n",
    "Let's imagine a scenario where a manufacturing plant produces machining parts. One of the production stages is about honing a cylinder to a given diameter. The process target value is 100mm. The actual dimension is achieved with some deviation that follows the normal distribution pattern around the target value ([Statistical Process Control](https://www.moresteam.com/toolbox/statistical-process-control-spc.cfm)). Because it it economically not viable, only certain portion of the workpieces is analysed post-process.\n",
    "\n",
    "The mock data is generated and assigned as shown below. In order to promote the validity of the experiment and to reduce the repetitiveness, a certain random number generator seed is used."
   ]
  },
  {
   "cell_type": "code",
   "execution_count": 7,
   "metadata": {},
   "outputs": [
    {
     "name": "stdout",
     "output_type": "stream",
     "text": [
      "Total number:\t 1000\n",
      "Minimum:\t 99.98565\n",
      "Mean:\t\t 99.99983\n",
      "Maximum:\t 100.01550\n",
      "Std dev of entire population (NumPy): 0.00487\n"
     ]
    }
   ],
   "source": [
    "# setting the seed\n",
    "seed = 2020  # seed value pre-set, selected arbitrarily\n",
    "np.random.seed(seed) # ensures the generated numbers are the same\n",
    "\n",
    "# target diameter\n",
    "target_diameter = 100\n",
    "\n",
    "# standard deviation\n",
    "tolerance = 0.005\n",
    "\n",
    "# total number of parts\n",
    "total_number = 1000\n",
    "\n",
    "# generating the random values of the mechined diameter\n",
    "mu, sigma = target_diameter, tolerance # mean and standard deviation\n",
    "diameter = np.random.normal(mu, sigma, 1000) \n",
    "\n",
    "# sample size\n",
    "sample_size = 50\n",
    "\n",
    "# sample elements - first 100 elements from the main data set\n",
    "sample = diameter[:sample_size]\n",
    "\n",
    "print(\"Total number:\\t\", len(diameter))\n",
    "print(f\"Minimum:\\t {diameter.min():.5f}\")\n",
    "print(f\"Mean:\\t\\t {diameter.mean():.5f}\")\n",
    "print(f\"Maximum:\\t {diameter.max():.5f}\")\n",
    "print(f\"Std dev of entire population (NumPy): {diameter.std():.5f}\")"
   ]
  },
  {
   "cell_type": "markdown",
   "metadata": {},
   "source": [
    "Now, let's evaluate the standard deviation of the population (SD_P) of the sample:\n",
    "$\n",
    "\\sigma = \\sqrt{\\frac{1}{N} \\sum_{i=1}^n (x_i - \\mu)^2}\n",
    "$\n",
    "and standard deviation of the sample (SD_S) of the sample:\n",
    "$\n",
    "s = \\sqrt{\\frac{1}{N-1} \\sum_{i=1}^n (x_i - \\bar{x})^2}\n",
    "$\n",
    "."
   ]
  },
  {
   "cell_type": "code",
   "execution_count": 8,
   "metadata": {},
   "outputs": [
    {
     "name": "stdout",
     "output_type": "stream",
     "text": [
      "Sample size:\t 50\n",
      "Sample Min:\t 99.99116\n",
      "Sample Mean:\t 99.99948\n",
      "Sample Max:\t 100.01045\n",
      "............\n",
      "Sample SD_P:\t 0.00476\n",
      "Sample SD_S:\t 0.00481\n"
     ]
    }
   ],
   "source": [
    "print(\"Sample size:\\t\", len(sample))\n",
    "print(f\"Sample Min:\\t {sample.min():.5f}\")\n",
    "print(f\"Sample Mean:\\t {sample.mean():.5f}\")\n",
    "print(f\"Sample Max:\\t {sample.max():.5f}\")\n",
    "print(12*\".\")\n",
    "\n",
    "# Calculate standard deviation of the population (sd_p) based on the sample\n",
    "# np.sqrt(np.sum((x - np.mean(x))**2)/len(x))\n",
    "# auxiliary variable\n",
    "sum = 0\n",
    "# iterate over elements of the array\n",
    "for x in np.nditer(sample):\n",
    "    sum = sum + (x - np.mean(sample))**2\n",
    "sd_p = np.sqrt(sum/sample_size)\n",
    "print(f\"Sample SD_P:\\t {sd_p:.5f}\")\n",
    "\n",
    "# Calculate standard deviation of the sample (sd_s) based on the sample\n",
    "# np.sqrt(np.sum((x - np.mean(x))**2)/len(x-1))\n",
    "# auxiliary variable\n",
    "sum = 0\n",
    "# iterate over elements of the array\n",
    "for x in np.nditer(sample):\n",
    "    sum = sum + (x - np.mean(sample))**2   \n",
    "sd_s = np.sqrt(sum/(sample_size-1))\n",
    "print(f\"Sample SD_S:\\t {sd_s:.5f}\")"
   ]
  },
  {
   "cell_type": "markdown",
   "metadata": {},
   "source": [
    "The above results needs to be compared to the benchmark, that is standard deviation of population performed on entire population"
   ]
  },
  {
   "cell_type": "code",
   "execution_count": 9,
   "metadata": {},
   "outputs": [
    {
     "name": "stdout",
     "output_type": "stream",
     "text": [
      "Std deviation on entire population:\t 0.00487\n",
      "Relative error of the standard deviation on population performed on sample (sd_p):\t 0.02335\n",
      "Relative error of the standard deviation on sample performed on sample (sd_s):\t\t 0.01343\n"
     ]
    }
   ],
   "source": [
    "# standard deviation of population on entire population - benchmark\n",
    "# auxiliary variable\n",
    "sum = 0\n",
    "# iterate over elements of the array\n",
    "for x in np.nditer(diameter):\n",
    "    sum = sum + (x - np.mean(diameter))**2\n",
    "SD = np.sqrt(sum/total_number)\n",
    "\n",
    "print(f\"Std deviation on entire population:\\t {SD:.5f}\")\n",
    "\n",
    "# Relative error of sd_p\n",
    "print(f\"Relative error of the standard deviation on population performed on sample (sd_p):\\t {(abs(sd_p-SD)/SD):.5f}\")\n",
    "\n",
    "# Relative error of sd_s\n",
    "print(f\"Relative error of the standard deviation on sample performed on sample (sd_s):\\t\\t {(abs(sd_s-SD)/SD):.5f}\")"
   ]
  },
  {
   "cell_type": "markdown",
   "metadata": {},
   "source": [
    "### Conclusion \n",
    "\n",
    "In the example above, the two methods of calculating the standard deviation performed on sample produced an error when compared to standard deviation performed on population (benchmark). \n",
    "\n",
    "Although standard deviation of the entire population yields an accurate results (every observation is considered), for practical reasons is often not viable (for example, it is hard to imagine taking the height of every person) and measurements are taking on a part of the population only (sample). It is assumed, that the sample is representative to the entire population and the size of the sample is large enough from statistics perspective. \n",
    "\n",
    "The above simulation revealed that standard deviation of sample yields a biased result. However, by implementing a correction parameter (degree of freedom) - that is standard deviation of sample - reduce the error. Depending on the statistical characteristics of the data set, it can often produce a good estimate. "
   ]
  },
  {
   "cell_type": "markdown",
   "metadata": {},
   "source": [
    "___\n",
    "### References - Task 3 related\n",
    "\n",
    "- Wikipedia Contributors - Standard Deviation [online] Available at: <https://en.wikipedia.org/wiki/Standard_deviation> [Accessed December 2020]\n",
    "- Tech Book Report - Standard Deviation In 30 Seconds [online] Available at: <http://www.techbookreport.com/tutorials/stddev-30-secs.html> [Accessed December 2020]\n",
    "- Math is fun - Standard Deviation and Variance [online] Available at: <https://www.mathsisfun.com/data/standard-deviation.html> [Accessed December 2020]\n",
    "- Microsoft support - STDEV.P function [online] Available at: <https://support.microsoft.com/en-us/office/stdev-p-function-6e917c05-31a0-496f-ade7-4f4e7462f285> [Accessed December 2020]\n",
    "- Microsoft support - STDEV.S function [online] Available at: <https://support.microsoft.com/en-us/office/stdev-s-function-7d69cf97-0c1f-4acf-be27-f3e83904cc23> [Accessed December 2020]\n",
    "- Exceltip - How To Use Excel STDEV.P Function [online] Available at: <https://www.exceltip.com/statistical-formulas/how-to-use-excel-stdev-p-function.html> [Accessed December 2020]\n",
    "- Good Data - Standard Deviation Functions [online] Available at: <https://help.gooddata.com/doc/en/reporting-and-dashboards/maql-analytical-query-language/maql-expression-reference/aggregation-functions/statistical-functions/standard-deviation-functions> [Accessed December 2020]\n",
    "- NumPy documentation - Standard Deviation (numpy.std) [online] Available at: <https://numpy.org/doc/stable/reference/generated/numpy.std.html> [Accessed December 2020]\n",
    "- Stack Overflow contributors - STDEV.S and STDEV.P using numpy [online] Available at: <https://stackoverflow.com/questions/64884294/stdev-s-and-stdev-p-using-numpy> [Accessed December 2020]\n",
    "- More Steam - Statistical Process Control [online] Available at: <https://www.moresteam.com/toolbox/statistical-process-control-spc.cfmn> [Accessed December 2020]"
   ]
  },
  {
   "cell_type": "markdown",
   "metadata": {},
   "source": []
  },
  {
   "cell_type": "markdown",
   "metadata": {},
   "source": [
    "___\n",
    "# Task 4 - K-means clustering\n",
    "\n",
    "\n",
    "### Objectives\n",
    "__Apply k-means clustering algorithm to Fisher's Iris data set using `scikit-learn`.__\n",
    "\n",
    "Explain in a Markdown cell how your code works and how accurate it might be, and then explain how your model could be used to make predictions of species\n",
    "of iris.\n",
    "\n"
   ]
  },
  {
   "cell_type": "markdown",
   "metadata": {},
   "source": [
    "### Fisher's Iris data set\n",
    "\n",
    "The data set in question is a collection of Iris flowers properties, collated by Roland Fisher.\n",
    "\n",
    "The data consist of 150 observations, divided into three classes with 50 observations per each class, representing the iris species. Each observation describe measurements from a flower. The collected properties (data set attributes) represent respectively:\n",
    "\n",
    "- sepal length, cm,\n",
    "- sepal width, cm,\n",
    "- petal length, cm,\n",
    "- petal width, cm,\n",
    "- species of the iris (Setosa, Versicolour, Virginica). \n",
    "\n",
    "The data set for this task has been obtained from the _UC Irvine Machine Learning Repository_, https://archive.ics.uci.edu/ml/datasets/iris. "
   ]
  },
  {
   "cell_type": "markdown",
   "metadata": {},
   "source": [
    "### K-means classification algorithm\n",
    "\n",
    "K-means is one of the unsupervised learning clustering algorithms. It is used to categorise elements into groups (clusters) based on the elements properties values. \n",
    "\n",
    "The aggregation is carried out based on the initial arbitrary division of the population into a specific number (k) of clusters. The process of cluster formation is done iteratively by assigning the elements to clusters. Each cluster is represented by a cluster centre that is the vector of mean attribute values of training instances. Cluster modeling in is typically done by applying the distance function to match instances against cluster centers [IBM.com](https://www.ibm.com/support/producthub/iias/docs/content/SSHRBY/com.ibm.swg.im.dashdb.analytics.doc/doc/r_kmeans_clustering.html). The belonging of an element to the clusters is based on the shortest distance to the cluster centre. \n",
    "\n",
    "The aim of the technique is to the maximise the similarity of elements in each of the clusters while maximising the difference between the clusters.\n",
    "\n",
    "The typical steps of the k-means algorithm ([Statystyka.az.pl](https://www.statystyka.az.pl/analiza-skupien/metoda-k-srednich.php)):\n",
    "1. Determine the number of clusters.\n",
    "Typically, the number of clusters is chosen arbitrarily and possibly optimised later for better results.\n",
    "2. Establish the initial cluster centres.\n",
    "The cluster centres should be selected in such a way as to maximize cluster distances. One of the methods is to run the algorithm several times, with the cluster centers initially being randomized, and choose the best model.\n",
    "3. Calculate the distances of objects from the centers of clusters.\n",
    "This step determines which observations are considered similar and which different from each other. The most commonly used distance is the the square of the distance in Euclidean space.\n",
    "4. Assign objects to clusters\n",
    "For a given observation, we compare the distances from all clusters and assign them to the cluster with the closest center.\n",
    "5. Create new aggregation centers\n",
    "Most often, the new center of focus is a point whose coordinates are the arithmetic mean of the coordinates of the points belonging to a given cluster.\n",
    "6. Follow steps 3, 4, 5 until the stop condition is met.\n",
    "The most common stop condition is the number of iterations given at the beginning, or no object moves between clusters."
   ]
  },
  {
   "cell_type": "markdown",
   "metadata": {},
   "source": [
    "K-means algorithm needs data for training. Based on the results, it is possible to predict belonging of other points to the clusters. \n",
    "![Classification - training](https://miro.medium.com/max/700/0*Xqmluj4gGNBd8GEC.png)\n",
    "![Classification - prediction](https://miro.medium.com/max/700/0*wVM7U0bDfuNPLptJ.png)\n",
    "Image source: [towardsdatascience.com](https://towardsdatascience.com/classification-regression-and-prediction-whats-the-difference-5423d9efe4ec)"
   ]
  },
  {
   "cell_type": "markdown",
   "metadata": {},
   "source": [
    "### Application of the k-means \n",
    "\n",
    "This section is based on the lecture videos and the `sci-kit learn` tutorial."
   ]
  },
  {
   "cell_type": "code",
   "execution_count": 11,
   "metadata": {},
   "outputs": [],
   "source": [
    "# Numerical arrays\n",
    "import numpy as np\n",
    "\n",
    "# Data tabularised\n",
    "import pandas as pd\n",
    "\n",
    "# Machine learning - KMeans\n",
    "import sklearn.cluster as skcl\n",
    "\n",
    "# Plotting\n",
    "import matplotlib.pyplot as plt\n",
    "import seaborn as sns"
   ]
  },
  {
   "cell_type": "code",
   "execution_count": 12,
   "metadata": {},
   "outputs": [],
   "source": [
    "# get the data set\n",
    "url = \"https://archive.ics.uci.edu/ml/machine-learning-databases/iris/iris.data\"\n",
    "\n",
    "# assign data set to dataframe 'df'\n",
    "df = pd.read_csv(url, sep=',', names = [\"Sepal_Length\", \"Sepal_Width\", \"Petal_Length\", \"Petal_Width\", \"Species\"])"
   ]
  },
  {
   "cell_type": "code",
   "execution_count": 13,
   "metadata": {},
   "outputs": [
    {
     "data": {
      "text/html": [
       "<div>\n",
       "<style scoped>\n",
       "    .dataframe tbody tr th:only-of-type {\n",
       "        vertical-align: middle;\n",
       "    }\n",
       "\n",
       "    .dataframe tbody tr th {\n",
       "        vertical-align: top;\n",
       "    }\n",
       "\n",
       "    .dataframe thead th {\n",
       "        text-align: right;\n",
       "    }\n",
       "</style>\n",
       "<table border=\"1\" class=\"dataframe\">\n",
       "  <thead>\n",
       "    <tr style=\"text-align: right;\">\n",
       "      <th></th>\n",
       "      <th>Sepal_Length</th>\n",
       "      <th>Sepal_Width</th>\n",
       "      <th>Petal_Length</th>\n",
       "      <th>Petal_Width</th>\n",
       "      <th>Species</th>\n",
       "    </tr>\n",
       "  </thead>\n",
       "  <tbody>\n",
       "    <tr>\n",
       "      <th>0</th>\n",
       "      <td>5.1</td>\n",
       "      <td>3.5</td>\n",
       "      <td>1.4</td>\n",
       "      <td>0.2</td>\n",
       "      <td>Iris-setosa</td>\n",
       "    </tr>\n",
       "    <tr>\n",
       "      <th>1</th>\n",
       "      <td>4.9</td>\n",
       "      <td>3.0</td>\n",
       "      <td>1.4</td>\n",
       "      <td>0.2</td>\n",
       "      <td>Iris-setosa</td>\n",
       "    </tr>\n",
       "    <tr>\n",
       "      <th>2</th>\n",
       "      <td>4.7</td>\n",
       "      <td>3.2</td>\n",
       "      <td>1.3</td>\n",
       "      <td>0.2</td>\n",
       "      <td>Iris-setosa</td>\n",
       "    </tr>\n",
       "    <tr>\n",
       "      <th>3</th>\n",
       "      <td>4.6</td>\n",
       "      <td>3.1</td>\n",
       "      <td>1.5</td>\n",
       "      <td>0.2</td>\n",
       "      <td>Iris-setosa</td>\n",
       "    </tr>\n",
       "  </tbody>\n",
       "</table>\n",
       "</div>"
      ],
      "text/plain": [
       "   Sepal_Length  Sepal_Width  Petal_Length  Petal_Width      Species\n",
       "0           5.1          3.5           1.4          0.2  Iris-setosa\n",
       "1           4.9          3.0           1.4          0.2  Iris-setosa\n",
       "2           4.7          3.2           1.3          0.2  Iris-setosa\n",
       "3           4.6          3.1           1.5          0.2  Iris-setosa"
      ]
     },
     "execution_count": 13,
     "metadata": {},
     "output_type": "execute_result"
    }
   ],
   "source": [
    "# the first few observations\n",
    "df.head(4)"
   ]
  },
  {
   "cell_type": "markdown",
   "metadata": {},
   "source": [
    "A single data plot is worth thousand of data pints - data set visualisation."
   ]
  },
  {
   "cell_type": "code",
   "execution_count": 14,
   "metadata": {},
   "outputs": [
    {
     "data": {
      "image/png": "[encoded data removed]",
      "text/plain": [
       "<Figure size 823.25x720 with 20 Axes>"
      ]
     },
     "metadata": {
      "needs_background": "light"
     },
     "output_type": "display_data"
    }
   ],
   "source": [
    "# a glance into the data set plot\n",
    "#pd.plotting.scatter_matrix(df, figsize=(12,8))\n",
    "sns.pairplot(df, hue = \"Species\")\n",
    "plt.show()"
   ]
  },
  {
   "cell_type": "markdown",
   "metadata": {},
   "source": [
    "Based on the above, _petal length_ and _sepal width_ appear to attributes that discriminate the species best and will be used in the subsequent analysis. "
   ]
  },
  {
   "cell_type": "markdown",
   "metadata": {},
   "source": [
    "In order to apply k-means, using scikit-learn, the dataframe must be without any categorical column. Below a new dataframe `X` is created, without the _species_ column."
   ]
  },
  {
   "cell_type": "code",
   "execution_count": 15,
   "metadata": {},
   "outputs": [
    {
     "data": {
      "text/html": [
       "<div>\n",
       "<style scoped>\n",
       "    .dataframe tbody tr th:only-of-type {\n",
       "        vertical-align: middle;\n",
       "    }\n",
       "\n",
       "    .dataframe tbody tr th {\n",
       "        vertical-align: top;\n",
       "    }\n",
       "\n",
       "    .dataframe thead th {\n",
       "        text-align: right;\n",
       "    }\n",
       "</style>\n",
       "<table border=\"1\" class=\"dataframe\">\n",
       "  <thead>\n",
       "    <tr style=\"text-align: right;\">\n",
       "      <th></th>\n",
       "      <th>Sepal_Length</th>\n",
       "      <th>Sepal_Width</th>\n",
       "      <th>Petal_Length</th>\n",
       "      <th>Petal_Width</th>\n",
       "    </tr>\n",
       "  </thead>\n",
       "  <tbody>\n",
       "    <tr>\n",
       "      <th>0</th>\n",
       "      <td>5.1</td>\n",
       "      <td>3.5</td>\n",
       "      <td>1.4</td>\n",
       "      <td>0.2</td>\n",
       "    </tr>\n",
       "    <tr>\n",
       "      <th>1</th>\n",
       "      <td>4.9</td>\n",
       "      <td>3.0</td>\n",
       "      <td>1.4</td>\n",
       "      <td>0.2</td>\n",
       "    </tr>\n",
       "    <tr>\n",
       "      <th>2</th>\n",
       "      <td>4.7</td>\n",
       "      <td>3.2</td>\n",
       "      <td>1.3</td>\n",
       "      <td>0.2</td>\n",
       "    </tr>\n",
       "  </tbody>\n",
       "</table>\n",
       "</div>"
      ],
      "text/plain": [
       "   Sepal_Length  Sepal_Width  Petal_Length  Petal_Width\n",
       "0           5.1          3.5           1.4          0.2\n",
       "1           4.9          3.0           1.4          0.2\n",
       "2           4.7          3.2           1.3          0.2"
      ]
     },
     "execution_count": 15,
     "metadata": {},
     "output_type": "execute_result"
    }
   ],
   "source": [
    "# Drop the class column (descriptive) in order to apply the KMeans class. Next, assign new data set to variable X\n",
    "X = df.drop('Species', 1)\n",
    "X.head(3)"
   ]
  },
  {
   "cell_type": "code",
   "execution_count": 16,
   "metadata": {},
   "outputs": [],
   "source": [
    "# Perform kmeans fitting.\n",
    "kmeans = skcl.KMeans(n_clusters=3, random_state=0).fit(X)"
   ]
  },
  {
   "cell_type": "markdown",
   "metadata": {},
   "source": [
    "Now, lets see to which cluster each of the observation was assigned by the algorithm"
   ]
  },
  {
   "cell_type": "code",
   "execution_count": 18,
   "metadata": {},
   "outputs": [],
   "source": [
    "# assign cluster centres to the variable cent\n",
    "cent = kmeans.cluster_centers_\n",
    "\n",
    "# convert the cluster centres into a dataframe with appropriate headings\n",
    "centres = pd.DataFrame({'Sepal_Length': cent[:, 0], 'Sepal_Width': cent[:, 1], 'Petal_Length': cent[:, 2], 'Petal_Width': cent[:, 3]})\n",
    "# centres # commented out for readibility"
   ]
  },
  {
   "cell_type": "markdown",
   "metadata": {},
   "source": [
    "There are three distinct clusters. but do they match the original species? Let's first evaluate the accuracy of the prediction quantitatively."
   ]
  },
  {
   "cell_type": "code",
   "execution_count": 19,
   "metadata": {},
   "outputs": [],
   "source": [
    "# add the labels to the dataframe in extra column 'Cluster_label'\n",
    "df['Cluster_label'] = pd.Series(kmeans.labels_, index=df.index)\n",
    "# df.tail(3) # commented out for readibility"
   ]
  },
  {
   "cell_type": "markdown",
   "metadata": {},
   "source": [
    "As we can see, each observation was assigned to one of three clusters (0, 1 or 2). It appears the labels were to match the species as follows:\n",
    "\n",
    "| Iris species | Cluster label |\n",
    "|:------------:|:-------------:|\n",
    "| Setosa       |       1       |\n",
    "| Versicoulor  |       2       |\n",
    "| Virginica    |       0       |\n",
    "\n",
    "For a better readability and also further analysis, the numerical clusters designation will be changed to the corresponding species names."
   ]
  },
  {
   "cell_type": "code",
   "execution_count": 20,
   "metadata": {},
   "outputs": [],
   "source": [
    "# replace values of 'Cluster_label' column - numerical values with descriptive\n",
    "df.loc[:,\"Cluster_label\"] = df.loc[:,\"Cluster_label\"].replace([1, 2, 0], [\"Iris-setosa\", \"Iris-versicolor\", \"Iris-virginica\"])"
   ]
  },
  {
   "cell_type": "code",
   "execution_count": 21,
   "metadata": {},
   "outputs": [
    {
     "data": {
      "text/html": [
       "<div>\n",
       "<style scoped>\n",
       "    .dataframe tbody tr th:only-of-type {\n",
       "        vertical-align: middle;\n",
       "    }\n",
       "\n",
       "    .dataframe tbody tr th {\n",
       "        vertical-align: top;\n",
       "    }\n",
       "\n",
       "    .dataframe thead th {\n",
       "        text-align: right;\n",
       "    }\n",
       "</style>\n",
       "<table border=\"1\" class=\"dataframe\">\n",
       "  <thead>\n",
       "    <tr style=\"text-align: right;\">\n",
       "      <th></th>\n",
       "      <th>Sepal_Length</th>\n",
       "      <th>Sepal_Width</th>\n",
       "      <th>Petal_Length</th>\n",
       "      <th>Petal_Width</th>\n",
       "      <th>Species</th>\n",
       "      <th>Cluster_label</th>\n",
       "    </tr>\n",
       "  </thead>\n",
       "  <tbody>\n",
       "    <tr>\n",
       "      <th>88</th>\n",
       "      <td>5.6</td>\n",
       "      <td>3.0</td>\n",
       "      <td>4.1</td>\n",
       "      <td>1.3</td>\n",
       "      <td>Iris-versicolor</td>\n",
       "      <td>Iris-versicolor</td>\n",
       "    </tr>\n",
       "    <tr>\n",
       "      <th>22</th>\n",
       "      <td>4.6</td>\n",
       "      <td>3.6</td>\n",
       "      <td>1.0</td>\n",
       "      <td>0.2</td>\n",
       "      <td>Iris-setosa</td>\n",
       "      <td>Iris-setosa</td>\n",
       "    </tr>\n",
       "    <tr>\n",
       "      <th>141</th>\n",
       "      <td>6.9</td>\n",
       "      <td>3.1</td>\n",
       "      <td>5.1</td>\n",
       "      <td>2.3</td>\n",
       "      <td>Iris-virginica</td>\n",
       "      <td>Iris-virginica</td>\n",
       "    </tr>\n",
       "    <tr>\n",
       "      <th>54</th>\n",
       "      <td>6.5</td>\n",
       "      <td>2.8</td>\n",
       "      <td>4.6</td>\n",
       "      <td>1.5</td>\n",
       "      <td>Iris-versicolor</td>\n",
       "      <td>Iris-versicolor</td>\n",
       "    </tr>\n",
       "  </tbody>\n",
       "</table>\n",
       "</div>"
      ],
      "text/plain": [
       "     Sepal_Length  Sepal_Width  Petal_Length  Petal_Width          Species  \\\n",
       "88            5.6          3.0           4.1          1.3  Iris-versicolor   \n",
       "22            4.6          3.6           1.0          0.2      Iris-setosa   \n",
       "141           6.9          3.1           5.1          2.3   Iris-virginica   \n",
       "54            6.5          2.8           4.6          1.5  Iris-versicolor   \n",
       "\n",
       "       Cluster_label  \n",
       "88   Iris-versicolor  \n",
       "22       Iris-setosa  \n",
       "141   Iris-virginica  \n",
       "54   Iris-versicolor  "
      ]
     },
     "execution_count": 21,
     "metadata": {},
     "output_type": "execute_result"
    }
   ],
   "source": [
    "# check a few random rows in the dataframe\n",
    "df.sample(4) "
   ]
  },
  {
   "cell_type": "code",
   "execution_count": 22,
   "metadata": {},
   "outputs": [
    {
     "data": {
      "text/plain": [
       "Iris-versicolor    62\n",
       "Iris-setosa        50\n",
       "Iris-virginica     38\n",
       "Name: Cluster_label, dtype: int64"
      ]
     },
     "execution_count": 22,
     "metadata": {},
     "output_type": "execute_result"
    }
   ],
   "source": [
    "df[\"Cluster_label\"].value_counts()"
   ]
  },
  {
   "cell_type": "code",
   "execution_count": 23,
   "metadata": {},
   "outputs": [
    {
     "data": {
      "text/plain": [
       "Iris-versicolor    62\n",
       "Iris-setosa        50\n",
       "Iris-virginica     38\n",
       "Name: Cluster_label, dtype: int64"
      ]
     },
     "execution_count": 23,
     "metadata": {},
     "output_type": "execute_result"
    }
   ],
   "source": [
    "# asign initial the labels of the points.\n",
    "kmeans.labels_\n",
    "\n",
    "# check frequency\n",
    "df[\"Cluster_label\"].value_counts()"
   ]
  },
  {
   "cell_type": "code",
   "execution_count": 24,
   "metadata": {},
   "outputs": [],
   "source": [
    "df.loc[:,\"Match\"] = np.where(df[\"Species\"] == df[\"Cluster_label\"], True, False)\n",
    "\n",
    "# Filter to show only these observations with correct assignment\n",
    "df_true = df[df[\"Match\"] == True]\n",
    "\n",
    "# Filter to show only these observations with incorrect assignment\n",
    "df_false = df[df[\"Match\"] == False]"
   ]
  },
  {
   "cell_type": "code",
   "execution_count": 26,
   "metadata": {},
   "outputs": [
    {
     "data": {
      "image/png": "[encoded data removed]",
      "text/plain": [
       "<Figure size 1152x720 with 1 Axes>"
      ]
     },
     "metadata": {
      "needs_background": "light"
     },
     "output_type": "display_data"
    }
   ],
   "source": [
    "# show all data points\n",
    "# plt.plot(df.loc[:,\"Petal_Length\"], df.loc[:,\"Sepal_Width\"], 'g.')\n",
    "\n",
    "# Plot the data set which were correctly clustered\n",
    "plt.plot(df_true.loc[:,\"Petal_Length\"], df_true.loc[:,\"Sepal_Width\"], 'bo', label=\"Matched prediction\")\n",
    "\n",
    "# Plot the data set which were not correctly clustered\n",
    "plt.plot(df_false.loc[:,\"Petal_Length\"], df_false.loc[:,\"Sepal_Width\"], 'rs', label=\"Missed prediction\")\n",
    "\n",
    "plt.rcParams['figure.figsize'] = [16, 10] # change the settings of the plot size\n",
    "\n",
    "plt.legend()\n",
    "plt.show()"
   ]
  },
  {
   "cell_type": "markdown",
   "metadata": {},
   "source": [
    "Let's see what the predicted clusters look like on the plot."
   ]
  },
  {
   "cell_type": "code",
   "execution_count": 27,
   "metadata": {},
   "outputs": [
    {
     "data": {
      "image/png": "[encoded data removed]",
      "text/plain": [
       "<Figure size 1152x720 with 1 Axes>"
      ]
     },
     "metadata": {
      "needs_background": "light"
     },
     "output_type": "display_data"
    }
   ],
   "source": [
    "# Plot the data set discriminated by labels.\n",
    "plt.plot(X[kmeans.labels_ == 0].loc[:,\"Petal_Length\"], X[kmeans.labels_ == 0].loc[:,\"Sepal_Width\"], 'co', label=\"Setosa - predicted\")\n",
    "plt.plot(X[kmeans.labels_ == 1].loc[:,\"Petal_Length\"], X[kmeans.labels_ == 1].loc[:,\"Sepal_Width\"], 'yo', label=\"Versicolout - predicted\")\n",
    "plt.plot(X[kmeans.labels_ == 2].loc[:,\"Petal_Length\"], X[kmeans.labels_ == 2].loc[:,\"Sepal_Width\"], 'mo', label=\"Virginica - predicted\")\n",
    "plt.rcParams['figure.figsize'] = [16, 10] # change the settings of the plot size\n",
    "\n",
    "plt.legend()\n",
    "plt.show()"
   ]
  },
  {
   "cell_type": "markdown",
   "metadata": {},
   "source": [
    "As seen, the algorithm put some of the flowers into wrong category (cluster). But let's look deeper at the results and compare the result with the actual classification on a single plot."
   ]
  },
  {
   "cell_type": "code",
   "execution_count": 28,
   "metadata": {},
   "outputs": [
    {
     "data": {
      "image/png": "[encoded data removed]",
      "text/plain": [
       "<Figure size 1152x720 with 1 Axes>"
      ]
     },
     "metadata": {
      "needs_background": "light"
     },
     "output_type": "display_data"
    }
   ],
   "source": [
    "# actual - represented with dots\n",
    "plt.plot(df[df[\"Species\"] == \"Iris-setosa\"].loc[:,\"Petal_Length\"], df[df[\"Species\"] == \"Iris-setosa\"].loc[:,\"Sepal_Width\"], 'yo', markersize=8, alpha=0.5, label=\"Setosa - actual\")\n",
    "plt.plot(df[df[\"Species\"] == \"Iris-versicolor\"].loc[:,\"Petal_Length\"], df[df[\"Species\"] == \"Iris-versicolor\"].loc[:,\"Sepal_Width\"], 'mo', markersize=8, alpha=0.2, label=\"Versicolour - actual\")\n",
    "plt.plot(df[df[\"Species\"] == \"Iris-virginica\"].loc[:,\"Petal_Length\"], df[df[\"Species\"] == \"Iris-virginica\"].loc[:,\"Sepal_Width\"], 'co', markersize=8, alpha=0.3, label=\"Virginica - actual\")\n",
    "\n",
    "# predicted - represented with 'x's\n",
    "plt.plot(X[kmeans.labels_ == 0].loc[:,\"Petal_Length\"], X[kmeans.labels_ == 0].loc[:,\"Sepal_Width\"], 'b+', markersize=12, label=\"Virginica - predicted\")\n",
    "plt.plot(X[kmeans.labels_ == 1].loc[:,\"Petal_Length\"], X[kmeans.labels_ == 1].loc[:,\"Sepal_Width\"], 'g+', markersize=12, label=\"Setosa - predicted\")\n",
    "plt.plot(X[kmeans.labels_ == 2].loc[:,\"Petal_Length\"], X[kmeans.labels_ == 2].loc[:,\"Sepal_Width\"], 'r+', markersize=12, label=\"Versicolour - predicted\")\n",
    "\n",
    "# centres - represented with stars\n",
    "plt.scatter(centres.loc[:,\"Petal_Length\"], centres.loc[:,\"Sepal_Width\"], marker='*', c='black', s=200, label=\"Cluster centres - predicted\")\n",
    "\n",
    "plt.legend(loc=\"upper right\")\n",
    "plt.show()"
   ]
  },
  {
   "cell_type": "markdown",
   "metadata": {},
   "source": [
    "Let us see which of the predicted observations were assigned correctly to the corresponding group, and which were not, by comparing the result with the actual classification."
   ]
  },
  {
   "cell_type": "code",
   "execution_count": 29,
   "metadata": {},
   "outputs": [],
   "source": [
    "# https://www.kite.com/python/answers/how-to-compare-two-pandas-dataframe-columns-in-python\n",
    "Match = np.where(df[\"Species\"] == df[\"Cluster_label\"], True, False)"
   ]
  },
  {
   "cell_type": "code",
   "execution_count": 30,
   "metadata": {},
   "outputs": [
    {
     "data": {
      "text/plain": [
       "{True: 50}"
      ]
     },
     "execution_count": 30,
     "metadata": {},
     "output_type": "execute_result"
    }
   ],
   "source": [
    "# accurace for iris-setosa - frequency of correct predictions (True)\n",
    "unique, counts = np.unique(Match[:50], return_counts=True)\n",
    "dict(zip(unique, counts))"
   ]
  },
  {
   "cell_type": "code",
   "execution_count": 31,
   "metadata": {},
   "outputs": [
    {
     "data": {
      "text/plain": [
       "{False: 2, True: 48}"
      ]
     },
     "execution_count": 31,
     "metadata": {},
     "output_type": "execute_result"
    }
   ],
   "source": [
    "# accurace for iris-versicolor - frequency of correct predictions (True)\n",
    "unique, counts = np.unique(Match[50:100], return_counts=True)\n",
    "dict(zip(unique, counts))"
   ]
  },
  {
   "cell_type": "code",
   "execution_count": 32,
   "metadata": {},
   "outputs": [
    {
     "data": {
      "text/plain": [
       "{False: 14, True: 36}"
      ]
     },
     "execution_count": 32,
     "metadata": {},
     "output_type": "execute_result"
    }
   ],
   "source": [
    "# accurace for iris-virginica - frequency of correct predictions (True)\n",
    "unique, counts = np.unique(Match[100:], return_counts=True)\n",
    "dict(zip(unique, counts))"
   ]
  },
  {
   "cell_type": "markdown",
   "metadata": {},
   "source": [
    "All in all, there is 134 correct elements assignment to the clusters, and 16 incorrect. The overall accuracy of the model for the iris data set is therefore:"
   ]
  },
  {
   "cell_type": "code",
   "execution_count": 33,
   "metadata": {},
   "outputs": [
    {
     "data": {
      "text/plain": [
       "0.89"
      ]
     },
     "execution_count": 33,
     "metadata": {},
     "output_type": "execute_result"
    }
   ],
   "source": [
    "accuracy = np.sum(Match) / df.shape[0]\n",
    "float(\"{:.2f}\".format(accuracy))"
   ]
  },
  {
   "cell_type": "markdown",
   "metadata": {},
   "source": [
    "### Conclusion\n",
    "\n",
    "K-means is useful and ease to implement clustering algorithm (readily available functions within scikit-learn library). It allows grouping the data points in euclidean space depending on the points location. \n",
    "\n",
    "The algorithm is not perfect, however, and the occurrence of errors are very likely. In the analysed Iris data set, with _petal length_ and _sepal width_ selected as variables, the model accuracy is 89%. \n",
    "\n",
    "The accuracy depends on, among others, the properties of the measured values, their distribution in the plot, number of clusters, distance between the clusters and distribution of the data points around the cluster centres. Therefore, a significant care must be taken while interpreting the results. "
   ]
  },
  {
   "cell_type": "markdown",
   "metadata": {},
   "source": [
    "___\n",
    "### References - Task 4 related"
   ]
  },
  {
   "cell_type": "markdown",
   "metadata": {},
   "source": [
    "https://en.wikipedia.org/wiki/K-means_clustering  \n",
    "https://scikit-learn.org/stable/modules/generated/sklearn.cluster.KMeans.html#sklearn.cluster.KMeans  \n",
    "https://realpython.com/k-means-clustering-python/  \n",
    "https://www.ibm.com/support/producthub/iias/docs/content/SSHRBY/com.ibm.swg.im.dashdb.analytics.doc/doc/r_kmeans_clustering.html  \n",
    "https://blogs.oracle.com/datascience/introduction-to-k-means-clustering  \n",
    "https://towardsdatascience.com/classification-regression-and-prediction-whats-the-difference-5423d9efe4ec \n",
    "https://mmuratarat.github.io/2019-07-23/kmeans_from_scratch  "
   ]
  },
  {
   "cell_type": "markdown",
   "metadata": {},
   "source": [
    "___\n",
    "Andrzej Kocielski"
   ]
  }
 ],
 "metadata": {
  "kernelspec": {
   "display_name": "Python 3",
   "language": "python",
   "name": "python3"
  },
  "language_info": {
   "codemirror_mode": {
    "name": "ipython",
    "version": 3
   },
   "file_extension": ".py",
   "mimetype": "text/x-python",
   "name": "python",
   "nbconvert_exporter": "python",
   "pygments_lexer": "ipython3",
   "version": "3.7.5"
  },
  "toc-autonumbering": false,
  "toc-showmarkdowntxt": false
 },
 "nbformat": 4,
 "nbformat_minor": 4
}
