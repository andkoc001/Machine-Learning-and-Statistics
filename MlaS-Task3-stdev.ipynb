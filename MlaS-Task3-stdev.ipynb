{
 "cells": [
  {
   "cell_type": "markdown",
   "metadata": {},
   "source": [
    "# Machine Learning and Statistics - Tasks\n",
    "Assignment Tasks for Machine Learning and Statistics, GMIT 2020\n",
    "\n",
    "Lecturer: dr Ian McLoughlin\n",
    "\n",
    "\n",
    ">Author: **Andrzej Kocielski**  \n",
    ">Github: [andkoc001](https://github.com/andkoc001/)  \n",
    ">Email: G00376291@gmit.ie, and.koc001@gmail.com\n",
    "\n",
    "Created: 16-11-2020\n",
    "\n",
    "This Notebook should be read in conjunction with the corresponding `README.md` file at the project [repository](https://github.com/andkoc001/Machine-Learning-and-Statistics.git) at GitHub."
   ]
  },
  {
   "cell_type": "markdown",
   "metadata": {},
   "source": [
    "___\n",
    "## Task 3 - Standard Deviation\n",
    "\n",
    "\n",
    "### Objectives\n",
    "__Simulate Excel function `STDEC.S` and `STDEV.P` using Numpy and explain advantages of the former.__\n"
   ]
  },
  {
   "cell_type": "markdown",
   "metadata": {},
   "source": [
    "#### Rough plan\n",
    "- describe standard deviation (equation, application, purpse, etc)\n",
    "- discuss the two Excel functions\n",
    "- Numpy simulation\n",
    "- findings"
   ]
  },
  {
   "cell_type": "markdown",
   "metadata": {},
   "source": [
    "### Standard deviation\n",
    "\n",
    "_Standard deviation_ (SD) is a statistical concept, with a wide range of application, to measure how the data is spread out around the mean. [Dictionary.com](https://www.dictionary.com/browse/standard-deviation) defines it as \"a measure of dispersion in a frequency distribution, equal to the square root of the mean of the squares of the deviations from the arithmetic mean of the distribution.\"\n",
    "\n",
    "The standard deviation is defined as a square root of the average of the squared differences from the Mean [Mathisfun.com](https://www.mathsisfun.com/data/standard-deviation.html).\n",
    "\n",
    "![Standard Deviation](https://upload.wikimedia.org/wikipedia/commons/f/f9/Comparison_standard_deviations.svg) Image source: [Wikipedia](https://simple.wikipedia.org/wiki/File:Comparison_standard_deviations.svg)\n",
    "\n",
    "  \n",
    "\n",
    "### Population and sample SD\n",
    "\n",
    "There are two main methods of calculating the standard deviation. One that refers to the entire population and the other that consider the data set as a sample of the population.\n",
    "\n",
    "The **standard deviation of population** ($\\sigma$), is a measure that could be accurately calculated if the values of the variable were known for all population units; corresponds to the deviation of a random variable whose distribution is identical to the distribution in the population. This kind of standard deviation is often referred as to unbiased.\n",
    "\n",
    "The the formula for population standard deviation ([Mathisfun.com](https://www.mathsisfun.com/data/standard-deviation-formulas.html)):\n",
    "$$\n",
    "\\sigma = \\sqrt{\\frac{1}{N} \\sum_{i=1}^n (x_i - \\mu)^2}\n",
    "$$\n",
    "where $\\mu$ denotes population mean.\n",
    "\n",
    "The **standard deviation of sample** ($s$), is a measure that estimates the standard deviation in a population based on the knowledge of only some of its objects, i.e. the random sample. This kind of standard deviation is often referred as to biased or corrected.\n",
    "\n",
    "The the formula for sample standard deviation ([Mathisfun.com](https://www.mathsisfun.com/data/standard-deviation-formulas.html)):\n",
    "$$\n",
    "s = \\sqrt{\\frac{1}{N-1} \\sum_{i=1}^n (x_i - \\bar{x})^2}\n",
    "$$\n",
    "where $\\bar{x}$ denotes sample mean.\n",
    "\n",
    "The Microsoft Excel's functions `STDEC.S` and `STDEV.P` are used to calculate standard deviation of **sample** and **population** respectively.\n"
   ]
  },
  {
   "cell_type": "code",
   "execution_count": null,
   "metadata": {},
   "outputs": [],
   "source": []
  },
  {
   "cell_type": "markdown",
   "metadata": {},
   "source": [
    "___\n",
    "## References and bibliography \n",
    "\n",
    "### General \n",
    "\n",
    "- Ian McLoughlin, Assignment Brief, 2020. [pdf] GMIT. Available at: <https://learnonline.gmit.ie/mod/url/view.php?id=102004> [Accessed October 2020].\n",
    "\n",
    "### Task 3 related\n",
    "\n",
    "- Wikipedia Contributors - Standard Deviation [online] Available at: <https://en.wikipedia.org/wiki/Standard_deviation> [Accessed November 2020]\n",
    "- Tech Book Report - Standard Deviation In 30 Seconds [online] Available at: <http://www.techbookreport.com/tutorials/stddev-30-secs.html> [Accessed November 2020]\n",
    "- Math is fun - Standard Deviation and Variance [online] Available at: <https://www.mathsisfun.com/data/standard-deviation.html> [Accessed November 2020]\n",
    "\n",
    "\n",
    "\n",
    "\n",
    "\n",
    "- Microsoft support - STDEV function [online] Available at: <https://support.microsoft.com/en-us/office/stdev-function-51fecaaa-231e-4bbb-9230-33650a72c9b0> [Accessed November 2020]\n",
    "- Microsoft support - STDEV.P function [online] Available at: <https://support.microsoft.com/en-us/office/stdev-p-function-6e917c05-31a0-496f-ade7-4f4e7462f285> [Accessed November 2020]\n",
    "- Microsoft support - STDEV.S function [online] Available at: <https://support.microsoft.com/en-us/office/stdev-s-function-7d69cf97-0c1f-4acf-be27-f3e83904cc23> [Accessed November 2020]\n",
    "- Exceltip - How To Use Excel STDEV.P Function [online] Available at: <https://www.exceltip.com/statistical-formulas/how-to-use-excel-stdev-p-function.html> [Accessed November 2020]\n",
    "- Good Data - Standard Deviation Functions [online] Available at: <https://help.gooddata.com/doc/en/reporting-and-dashboards/maql-analytical-query-language/maql-expression-reference/aggregation-functions/statistical-functions/standard-deviation-functions> [Accessed November 2020]\n",
    "\n",
    "\n"
   ]
  },
  {
   "cell_type": "markdown",
   "metadata": {},
   "source": [
    "___\n",
    "Andrzej Kocielski"
   ]
  }
 ],
 "metadata": {
  "kernelspec": {
   "display_name": "Python 3",
   "language": "python",
   "name": "python3"
  },
  "language_info": {
   "codemirror_mode": {
    "name": "ipython",
    "version": 3
   },
   "file_extension": ".py",
   "mimetype": "text/x-python",
   "name": "python",
   "nbconvert_exporter": "python",
   "pygments_lexer": "ipython3",
   "version": "3.7.5"
  }
 },
 "nbformat": 4,
 "nbformat_minor": 4
}
